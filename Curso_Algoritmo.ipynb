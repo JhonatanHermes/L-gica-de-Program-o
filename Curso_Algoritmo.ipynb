{
  "nbformat": 4,
  "nbformat_minor": 0,
  "metadata": {
    "colab": {
      "provenance": [],
      "authorship_tag": "ABX9TyMhD9OoRNkroeTdPrqx5Lcv",
      "include_colab_link": true
    },
    "kernelspec": {
      "name": "python3",
      "display_name": "Python 3"
    },
    "language_info": {
      "name": "python"
    }
  },
  "cells": [
    {
      "cell_type": "markdown",
      "metadata": {
        "id": "view-in-github",
        "colab_type": "text"
      },
      "source": [
        "<a href=\"https://colab.research.google.com/github/JhonatanHermes/L-gica-de-Program-o/blob/main/Curso_Algoritmo.ipynb\" target=\"_parent\"><img src=\"https://colab.research.google.com/assets/colab-badge.svg\" alt=\"Open In Colab\"/></a>"
      ]
    },
    {
      "cell_type": "code",
      "execution_count": null,
      "metadata": {
        "colab": {
          "base_uri": "https://localhost:8080/"
        },
        "id": "n4qPUw2OgRHY",
        "outputId": "f6e878ec-1117-4892-9111-9d9c4c604d9a"
      },
      "outputs": [
        {
          "output_type": "stream",
          "name": "stdout",
          "text": [
            "olá, mundo!\n"
          ]
        }
      ],
      "source": [
        "print (\"olá, mundo!\")"
      ]
    },
    {
      "cell_type": "code",
      "source": [
        "print (\"me livrei da maldição\")"
      ],
      "metadata": {
        "colab": {
          "base_uri": "https://localhost:8080/"
        },
        "id": "ymhZPeElhyOB",
        "outputId": "41ed93a0-1cfe-43f2-8302-76ab8b3fe14a"
      },
      "execution_count": null,
      "outputs": [
        {
          "output_type": "stream",
          "name": "stdout",
          "text": [
            "me livrei da maldição\n"
          ]
        }
      ]
    },
    {
      "cell_type": "code",
      "source": [
        "print (\"olá, mundo!\")\n",
        "print (\"me livrei da maldição\")"
      ],
      "metadata": {
        "colab": {
          "base_uri": "https://localhost:8080/"
        },
        "id": "zol_1DSSiLas",
        "outputId": "acfc3f38-0b19-4dee-c88e-66e216da6fb0"
      },
      "execution_count": null,
      "outputs": [
        {
          "output_type": "stream",
          "name": "stdout",
          "text": [
            "olá, mundo!\n",
            "me livrei da maldição\n"
          ]
        }
      ]
    },
    {
      "cell_type": "code",
      "source": [
        "msg = \"olá, mundo!\"\n",
        "print (msg)"
      ],
      "metadata": {
        "colab": {
          "base_uri": "https://localhost:8080/"
        },
        "id": "KBCmOPM9meMM",
        "outputId": "548b7d5a-f41b-4157-e389-8cb5e197a723"
      },
      "execution_count": null,
      "outputs": [
        {
          "output_type": "stream",
          "name": "stdout",
          "text": [
            "olá, mundo!\n"
          ]
        }
      ]
    },
    {
      "cell_type": "code",
      "source": [
        "msg = \"olá, mundo!\"\n",
        "print (\"mensagem\" , msg)"
      ],
      "metadata": {
        "colab": {
          "base_uri": "https://localhost:8080/"
        },
        "id": "NHJa7Pbcn-v3",
        "outputId": "53b2a74e-0da5-4a53-f14a-fe32344d19af"
      },
      "execution_count": null,
      "outputs": [
        {
          "output_type": "stream",
          "name": "stdout",
          "text": [
            "mensagem olá, mundo!\n"
          ]
        }
      ]
    },
    {
      "cell_type": "code",
      "source": [
        "print(\"Digite seu nome: \")\n",
        "nome = input()\n",
        "print(\"Muito prazer, \", nome)"
      ],
      "metadata": {
        "colab": {
          "base_uri": "https://localhost:8080/"
        },
        "id": "TmirI7TPphLo",
        "outputId": "f040c297-819c-496e-d0bf-efc7db7cdcef"
      },
      "execution_count": null,
      "outputs": [
        {
          "output_type": "stream",
          "name": "stdout",
          "text": [
            "Digite seu nome: \n",
            "Amanda\n",
            "Muito prazer,  Amanda\n"
          ]
        }
      ]
    },
    {
      "cell_type": "code",
      "source": [
        "print(\"Informe o primeiro numero:\")\n",
        "N1 = int(input())\n",
        "print(\"Informe o segundo numero:\")\n",
        "N2 = int(input())\n",
        "soma = N1 + N2\n",
        "print(\"A Soma dos dois numeros é:\" , soma)"
      ],
      "metadata": {
        "colab": {
          "base_uri": "https://localhost:8080/"
        },
        "id": "SmNuUFSwrjJZ",
        "outputId": "97c4fbd4-45fc-4b3f-86f3-fcce8571b54a"
      },
      "execution_count": null,
      "outputs": [
        {
          "output_type": "stream",
          "name": "stdout",
          "text": [
            "Informe o primeiro numero:\n",
            "10\n",
            "Informe o segundo numero:\n",
            "13\n",
            "A Soma dos dois numeros é: 23\n"
          ]
        }
      ]
    },
    {
      "cell_type": "code",
      "source": [
        "A = abs(-50)\n",
        "print(A)"
      ],
      "metadata": {
        "colab": {
          "base_uri": "https://localhost:8080/"
        },
        "id": "uRSUZILDzn0g",
        "outputId": "45832805-85c2-4cec-c31e-f67340583501"
      },
      "execution_count": null,
      "outputs": [
        {
          "output_type": "stream",
          "name": "stdout",
          "text": [
            "50\n"
          ]
        }
      ]
    },
    {
      "cell_type": "code",
      "source": [
        "A = 9 ** 5\n",
        "print(A)"
      ],
      "metadata": {
        "colab": {
          "base_uri": "https://localhost:8080/"
        },
        "id": "RUkY0IH7zyFo",
        "outputId": "f15e8746-e598-42e2-c5e9-708d75bef804"
      },
      "execution_count": null,
      "outputs": [
        {
          "output_type": "stream",
          "name": "stdout",
          "text": [
            "59049\n"
          ]
        }
      ]
    },
    {
      "cell_type": "code",
      "source": [
        "resultado = math.sqrt(25)\n",
        "print(resultado)"
      ],
      "metadata": {
        "colab": {
          "base_uri": "https://localhost:8080/"
        },
        "id": "JjiS4suP0vTE",
        "outputId": "be38ef8c-7e93-45dc-cc29-2b3f83ed8d08"
      },
      "execution_count": null,
      "outputs": [
        {
          "output_type": "stream",
          "name": "stdout",
          "text": [
            "5.0\n"
          ]
        }
      ]
    },
    {
      "cell_type": "code",
      "source": [
        "import math\n",
        "\n",
        "# Solicita os valores de A, B e C ao usuário\n",
        "A = float(input(\"Digite o valor de A: \"))\n",
        "B = float(input(\"Digite o valor de B: \"))\n",
        "C = float(input(\"Digite o valor de C: \"))\n",
        "\n",
        "# Exibe a expressão\n",
        "print(f\"Expressão: {A}*x^2 + {B}*x + {C} = 0\")\n",
        "\n",
        "# Calcula o valor de Delta\n",
        "Del = B**2 - 4*A*C\n",
        "print(f\"O valor de Delta é: {Del}\")\n",
        "\n",
        "# Verifica o valor de Delta e calcula as raízes conforme necessário\n",
        "if Del < 0:\n",
        "    print(\"A expressão não possui raízes pois o valor de delta é negativo.\")\n",
        "elif Del > 0:\n",
        "    x1 = (-B + math.sqrt(Del)) / (2 * A)\n",
        "    x2 = (-B - math.sqrt(Del)) / (2 * A)\n",
        "    print(f\"As raízes da expressão são: {x1} e {x2}\")\n",
        "else:\n",
        "    x = -B / (2 * A)\n",
        "    print(f\"A raiz da expressão é: {x}\")\n"
      ],
      "metadata": {
        "colab": {
          "base_uri": "https://localhost:8080/"
        },
        "id": "uVIL3tch1vFg",
        "outputId": "c19cdf23-1e28-47ce-d186-f3493b4d3181"
      },
      "execution_count": null,
      "outputs": [
        {
          "output_type": "stream",
          "name": "stdout",
          "text": [
            "Digite o valor de A: 2\n",
            "Digite o valor de B: 5\n",
            "Digite o valor de C: 3\n",
            "Expressão: 2.0*x^2 + 5.0*x + 3.0 = 0\n",
            "O valor de Delta é: 1.0\n",
            "As raízes da expressão são: -1.0 e -1.5\n"
          ]
        }
      ]
    },
    {
      "cell_type": "code",
      "source": [
        "A = 2\n",
        "B = 3\n",
        "C = 5\n",
        "print(A>B)"
      ],
      "metadata": {
        "colab": {
          "base_uri": "https://localhost:8080/"
        },
        "id": "ywodEwxhqMC3",
        "outputId": "e0381d14-3a14-40f4-ff12-f92755a50c77"
      },
      "execution_count": null,
      "outputs": [
        {
          "output_type": "stream",
          "name": "stdout",
          "text": [
            "False\n"
          ]
        }
      ]
    },
    {
      "cell_type": "code",
      "source": [
        "A = 2\n",
        "B = 3\n",
        "C = 5\n",
        "print(A != B)"
      ],
      "metadata": {
        "colab": {
          "base_uri": "https://localhost:8080/"
        },
        "id": "kQd2Jw-0sf5j",
        "outputId": "6acb80ee-91cf-4182-911f-9e63a485a1a4"
      },
      "execution_count": null,
      "outputs": [
        {
          "output_type": "stream",
          "name": "stdout",
          "text": [
            "True\n"
          ]
        }
      ]
    },
    {
      "cell_type": "code",
      "source": [
        "A = 2\n",
        "B = 3\n",
        "C = 5\n",
        "print(C == A + B)"
      ],
      "metadata": {
        "colab": {
          "base_uri": "https://localhost:8080/"
        },
        "id": "yV5sP1Ras343",
        "outputId": "e8e36275-da80-4803-a4c9-d0f9f9cf8407"
      },
      "execution_count": null,
      "outputs": [
        {
          "output_type": "stream",
          "name": "stdout",
          "text": [
            "True\n"
          ]
        }
      ]
    },
    {
      "cell_type": "code",
      "source": [
        "A = 2\n",
        "B = 3\n",
        "C = 5\n",
        "print(C >= A + B)"
      ],
      "metadata": {
        "colab": {
          "base_uri": "https://localhost:8080/"
        },
        "id": "I2eBeymrtZmj",
        "outputId": "895d79dd-3e63-4a41-ba47-9516931d8e08"
      },
      "execution_count": null,
      "outputs": [
        {
          "output_type": "stream",
          "name": "stdout",
          "text": [
            "True\n"
          ]
        }
      ]
    },
    {
      "cell_type": "code",
      "source": [
        "A = 2\n",
        "B = 3\n",
        "C = 5\n",
        "print(C >= A ^ B)"
      ],
      "metadata": {
        "colab": {
          "base_uri": "https://localhost:8080/"
        },
        "id": "raC7KI07tpuv",
        "outputId": "7008a2aa-a03f-4528-a438-1b856e81832d"
      },
      "execution_count": null,
      "outputs": [
        {
          "output_type": "stream",
          "name": "stdout",
          "text": [
            "True\n"
          ]
        }
      ]
    },
    {
      "cell_type": "code",
      "source": [
        "A = 2\n",
        "B = 3\n",
        "C = 5\n",
        "print(not((A == B) or (C>A)))"
      ],
      "metadata": {
        "colab": {
          "base_uri": "https://localhost:8080/"
        },
        "id": "_Re89G2Cvg5k",
        "outputId": "8d028ede-b64a-469e-dc95-4840fc0595f7"
      },
      "execution_count": null,
      "outputs": [
        {
          "output_type": "stream",
          "name": "stdout",
          "text": [
            "False\n"
          ]
        }
      ]
    },
    {
      "cell_type": "code",
      "source": [
        "A = 2\n",
        "B = 3\n",
        "C = 5\n",
        "print(A == B) or (C>A)"
      ],
      "metadata": {
        "colab": {
          "base_uri": "https://localhost:8080/"
        },
        "id": "3_6x5Goov8ve",
        "outputId": "15f6cdc9-e3f7-44ce-c1ee-e0fcffb0c0af"
      },
      "execution_count": null,
      "outputs": [
        {
          "output_type": "stream",
          "name": "stdout",
          "text": [
            "False\n"
          ]
        },
        {
          "output_type": "execute_result",
          "data": {
            "text/plain": [
              "True"
            ]
          },
          "metadata": {},
          "execution_count": 10
        }
      ]
    },
    {
      "cell_type": "code",
      "source": [
        "# Solicita os lados do triângulo ao usuário\n",
        "L1 = int(input(\"Digite o primeiro lado: \"))\n",
        "L2 = int(input(\"Digite o segundo lado: \"))\n",
        "L3 = int(input(\"Digite o terceiro lado: \"))\n",
        "\n",
        "# Verifica se o triângulo é equilátero\n",
        "EQ = (L1 == L2) and (L2 == L3)\n",
        "print(\"É equilátero:\", EQ)\n",
        "\n",
        "# Verifica se o triângulo é escaleno\n",
        "ES = (L1 != L2) and (L2 != L3) and (L1 != L3)\n",
        "print(\"É escaleno:\", ES)"
      ],
      "metadata": {
        "colab": {
          "base_uri": "https://localhost:8080/"
        },
        "id": "GX7LG-QTweFO",
        "outputId": "855da3dd-541c-46df-a154-b88a3c892489"
      },
      "execution_count": null,
      "outputs": [
        {
          "output_type": "stream",
          "name": "stdout",
          "text": [
            "Digite o primeiro lado: 3\n",
            "Digite o segundo lado: 4\n",
            "Digite o terceiro lado: 10\n",
            "É equilátero: False\n",
            "É escaleno: True\n"
          ]
        }
      ]
    },
    {
      "cell_type": "code",
      "source": [
        "L1 = int(input(\"Digite o primeiro lado: \"))\n",
        "L2 = int(input(\"Digite o segundo lado: \"))\n",
        "L3 = int(input(\"Digite o terceiro lado: \"))\n",
        "L4 = int(input(\"Digite o quarto lado: \"))\n",
        "QD = (L1 == L2) and (L2 == L3) and (L3 == L4)\n",
        "print(\"É um quadrado:\", QD)"
      ],
      "metadata": {
        "colab": {
          "base_uri": "https://localhost:8080/"
        },
        "id": "rZFz-Xw_4mNP",
        "outputId": "52721c33-cdd0-4c1f-9947-f1b253371ec7"
      },
      "execution_count": null,
      "outputs": [
        {
          "output_type": "stream",
          "name": "stdout",
          "text": [
            "Digite o primeiro lado: 2\n",
            "Digite o segundo lado: 2\n",
            "Digite o terceiro lado: 2\n",
            "Digite o quarto lado: 2\n",
            "É um quadrado: True\n"
          ]
        }
      ]
    },
    {
      "cell_type": "code",
      "source": [
        "Ano_atual = int(input(\"Em que ano estamos: \"))\n",
        "Ano_de_nascimento = int(input(\"Em que ano você nasceu: \"))\n",
        "print(\"Sua idade é:\", Ano_atual - Ano_de_nascimento)"
      ],
      "metadata": {
        "colab": {
          "base_uri": "https://localhost:8080/"
        },
        "id": "q3DnBPBi5_iL",
        "outputId": "fcd12b37-0b53-49c4-c986-8e7d8cafc7a9"
      },
      "execution_count": null,
      "outputs": [
        {
          "output_type": "stream",
          "name": "stdout",
          "text": [
            "Em que ano estamos: 2024\n",
            "Em que ano você nasceu: 2003\n",
            "Sua idade é: 21\n"
          ]
        }
      ]
    },
    {
      "cell_type": "code",
      "source": [
        "Reais = float(input(\"Quantos Reais eu tenho: R$ \"))\n",
        "Dolares = Reais / 2.20\n",
        "print(\"Eu tenho\", Dolares, \"dólares\")"
      ],
      "metadata": {
        "colab": {
          "base_uri": "https://localhost:8080/"
        },
        "id": "iKLAQnB07PXZ",
        "outputId": "a6ac0821-4bbb-4c2f-e2e7-1a1dc27f9b0c"
      },
      "execution_count": null,
      "outputs": [
        {
          "output_type": "stream",
          "name": "stdout",
          "text": [
            "Quantos Reais eu tenho: R$ 100\n",
            "Eu tenho 45.45454545454545 dólares\n"
          ]
        }
      ]
    },
    {
      "cell_type": "code",
      "source": [
        "Reais = float(input(\"Quantos Reais eu tenho: R$ \"))\n",
        "Dolares = Reais / 2.20\n",
        "print(f\"Eu tenho {Dolares:.2f} dólares\")"
      ],
      "metadata": {
        "colab": {
          "base_uri": "https://localhost:8080/"
        },
        "id": "AV_7nIJ28FoV",
        "outputId": "890d88b5-2b95-4702-ee27-11876f34f03d"
      },
      "execution_count": null,
      "outputs": [
        {
          "output_type": "stream",
          "name": "stdout",
          "text": [
            "Quantos Reais eu tenho: R$ 100\n",
            "Eu tenho 45.45 dólares\n"
          ]
        }
      ]
    },
    {
      "cell_type": "code",
      "source": [
        "F = float(input(\"Qual a temperatura aqui:\"))\n",
        "C = (F - 32) / 1.8\n",
        "print(f\"A temperatura aqui é {C:.1f}ºC\")"
      ],
      "metadata": {
        "colab": {
          "base_uri": "https://localhost:8080/"
        },
        "id": "-PSGuIDH9ADQ",
        "outputId": "0da0dfea-1076-46ee-edd9-73cc0b8881ae"
      },
      "execution_count": null,
      "outputs": [
        {
          "output_type": "stream",
          "name": "stdout",
          "text": [
            "Qual a temperatura aqui:60\n",
            "A temperatura aqui é 15.6ºC\n"
          ]
        }
      ]
    },
    {
      "cell_type": "code",
      "source": [
        "preco = float(input(\"Qual será o imposto: U$\"))\n",
        "imposto = (preco * 0.6) / 100\n",
        "print(\"O imposto será de U$\",imposto)"
      ],
      "metadata": {
        "colab": {
          "base_uri": "https://localhost:8080/"
        },
        "id": "efkAeus7-GFK",
        "outputId": "4af02b9a-48d4-48b9-afed-fa04368d4082"
      },
      "execution_count": null,
      "outputs": [
        {
          "output_type": "stream",
          "name": "stdout",
          "text": [
            "Qual será o imposto: U$1000\n",
            "O imposto será de U$ 6.0\n"
          ]
        }
      ]
    },
    {
      "cell_type": "code",
      "source": [
        "# Receber os dados do usuário\n",
        "valor_total = float(input(\"Qual é o valor total a ser financiado? R$ \"))\n",
        "numero_parcelas = int(input(\"Quantas parcelas? \"))\n",
        "\n",
        "# Calcular o valor total com juros de 20%\n",
        "juros = 0.20\n",
        "valor_total_com_juros = valor_total * (1 + juros)\n",
        "\n",
        "# Calcular o valor de cada parcela\n",
        "valor_parcela = valor_total_com_juros / numero_parcelas\n",
        "\n",
        "# Exibir o resultado\n",
        "print(f\"O valor de cada parcela será de R$ {valor_parcela:.2f}\")"
      ],
      "metadata": {
        "colab": {
          "base_uri": "https://localhost:8080/"
        },
        "id": "SNlwwaN6_y3T",
        "outputId": "19b49938-38e3-4e22-9cce-abfd4f7d3d9c"
      },
      "execution_count": null,
      "outputs": [
        {
          "output_type": "stream",
          "name": "stdout",
          "text": [
            "Qual é o valor total a ser financiado? R$ 2000\n",
            "Quantas parcelas? 10\n",
            "O valor de cada parcela será de R$ 240.00\n"
          ]
        }
      ]
    },
    {
      "cell_type": "code",
      "source": [
        "# Receber os dados do usuário\n",
        "ano_atual = int(input(\"Em que ano estamos? \"))\n",
        "ano_de_nascimento = int(input(\"Em que ano você nasceu? \"))\n",
        "\n",
        "# Calcular a idade\n",
        "idade = ano_atual - ano_de_nascimento\n",
        "\n",
        "# Exibir a idade\n",
        "print(\"Sua idade é:\", idade)\n",
        "\n",
        "# Verificar se a idade é maior ou igual a 21 anos\n",
        "if idade >= 21:\n",
        "    print(\"E já atingiu a maioridade.\")"
      ],
      "metadata": {
        "colab": {
          "base_uri": "https://localhost:8080/"
        },
        "id": "cwuhOZMnzi7j",
        "outputId": "5ff9787d-2486-4b2e-d526-bec44061d9b2"
      },
      "execution_count": null,
      "outputs": [
        {
          "output_type": "stream",
          "name": "stdout",
          "text": [
            "Em que ano estamos? 2024\n",
            "Em que ano você nasceu? 2002\n",
            "Sua idade é: 22\n",
            "E já atingiu a maioridade.\n"
          ]
        }
      ]
    },
    {
      "cell_type": "code",
      "source": [
        "# Receber a quantidade de dinheiro do usuário\n",
        "dinheiro = int(input(\"Quanto dinheiro você tem? \"))\n",
        "\n",
        "# Verificar se o dinheiro é suficiente para ir para a Disney\n",
        "if dinheiro >= 10000:\n",
        "    print(\"Posso ir pra Disney\")\n",
        "else:\n",
        "    print(\"Não posso ir pra Disney\")"
      ],
      "metadata": {
        "colab": {
          "base_uri": "https://localhost:8080/"
        },
        "id": "xvmU6LLH1zr1",
        "outputId": "d6a04eab-7cde-406b-da6b-86b142e3b405"
      },
      "execution_count": null,
      "outputs": [
        {
          "output_type": "stream",
          "name": "stdout",
          "text": [
            "Quanto dinheiro você tem? 10000\n",
            "Posso ir pra Disney\n"
          ]
        }
      ]
    },
    {
      "cell_type": "code",
      "source": [
        "N = int(input(\"Digite um numero: \"))\n",
        "if (N % 2) == 0:\n",
        "  print(\"O número é par\")\n",
        "else:\n",
        "  print(\"O número é impar\")"
      ],
      "metadata": {
        "colab": {
          "base_uri": "https://localhost:8080/"
        },
        "id": "XkHNIxOe3UKs",
        "outputId": "8a5bee4a-68dd-495c-8ceb-88428a0fd5df"
      },
      "execution_count": null,
      "outputs": [
        {
          "output_type": "stream",
          "name": "stdout",
          "text": [
            "Digite um numero: 10\n",
            "O número é par\n"
          ]
        }
      ]
    },
    {
      "cell_type": "code",
      "source": [
        "M = float(input(\"Escreva sua massa (kg):\"))\n",
        "A = float(input(\"Escreva sua altura (m):\"))\n",
        "IMC = M / (A * A)\n",
        "print(f\"Seu IMC é:, {IMC:.2f}\")\n",
        "if (IMC >= 18.5) and (IMC <= 25):\n",
        "  print(\"Você está no peso ideal\")"
      ],
      "metadata": {
        "colab": {
          "base_uri": "https://localhost:8080/"
        },
        "id": "EDEJA4td41H9",
        "outputId": "160cb59e-1c49-4e81-c22e-429fa75cbb96"
      },
      "execution_count": null,
      "outputs": [
        {
          "output_type": "stream",
          "name": "stdout",
          "text": [
            "Escreva sua massa (kg):75\n",
            "Escreva sua altura (m):1.77\n",
            "Seu IMC é:, 23.94\n",
            "Você está no peso ideal\n"
          ]
        }
      ]
    },
    {
      "cell_type": "code",
      "source": [
        "# Receber a quantidade de dinheiro do usuário\n",
        "dinheiro = int(input(\"Quanto dinheiro você tem: \"))\n",
        "\n",
        "# Verificar quanto dinheiro o usuário tem e imprimir a mensagem adequada\n",
        "if dinheiro >= 5000:\n",
        "    print(\"Você pode comprar um carro\")\n",
        "elif dinheiro >= 3000:\n",
        "    print(\"Você pode comprar uma moto\")\n",
        "else:\n",
        "    print(\"Vai andar de busão\")"
      ],
      "metadata": {
        "colab": {
          "base_uri": "https://localhost:8080/"
        },
        "id": "gvuM92WX7441",
        "outputId": "943f63bc-5dab-43d6-8cb9-2d28c572d030"
      },
      "execution_count": null,
      "outputs": [
        {
          "output_type": "stream",
          "name": "stdout",
          "text": [
            "Quanto dinheiro você tem: 2000\n",
            "Vai andar de busão\n"
          ]
        }
      ]
    },
    {
      "cell_type": "code",
      "source": [
        "N1 = float(input(\"Primeria nota:\"))\n",
        "N2 = float(input(\"Segunda nota:\"))\n",
        "M = (N1 + N2) / 2\n",
        "print(f\"Sua média foi de {M:.2F}\")\n",
        "if M >= 7:\n",
        "  print(\"Você está Aprovado\")\n",
        "elif M >= 5:\n",
        "  print(\"Você está Recuperação\")\n",
        "else:\n",
        "  print(\"Você está Reprovado\")"
      ],
      "metadata": {
        "colab": {
          "base_uri": "https://localhost:8080/"
        },
        "id": "oCKfEbR69tjl",
        "outputId": "9d6d348f-f2f9-4ae4-9691-a921abd4d784"
      },
      "execution_count": null,
      "outputs": [
        {
          "output_type": "stream",
          "name": "stdout",
          "text": [
            "Primeria nota:10\n",
            "Segunda nota:7\n",
            "Sua média foi de 8.50\n",
            "Você está Aprovado\n"
          ]
        }
      ]
    },
    {
      "cell_type": "code",
      "source": [
        "M = float(input(\"Escreva sua massa (kg):\"))\n",
        "A = float(input(\"Escreva sua altura (m):\"))\n",
        "IMC = M / (A * A)\n",
        "print(f\"Seu IMC é: {IMC:.2f}\")\n",
        "if (IMC < 17):\n",
        "  print(\"Muito abaixo do peso\")\n",
        "elif (IMC >= 17) and (IMC <= 18.5):\n",
        "  print(\"Abaixo do peso\")\n",
        "elif (IMC >= 18.5) and (IMC <= 25):\n",
        "  print(\"Peso ideal\")\n",
        "elif (IMC >= 25) and (IMC <= 30):\n",
        "  print(\"Acima do peso\")\n",
        "elif (IMC >= 30) and (IMC <= 35):\n",
        "  print(\"Obesidade\")\n",
        "elif (IMC >= 35) and (IMC <= 40):\n",
        "  print(\"Obesidade severa\")\n",
        "elif (IMC > 40):\n",
        "  print(\"Obesidade morbida\")"
      ],
      "metadata": {
        "colab": {
          "base_uri": "https://localhost:8080/"
        },
        "id": "phIJRIR7_jLI",
        "outputId": "1df1824a-eb79-4e48-9847-47d6f660b7bb"
      },
      "execution_count": null,
      "outputs": [
        {
          "output_type": "stream",
          "name": "stdout",
          "text": [
            "Escreva sua massa (kg):73\n",
            "Escreva sua altura (m):1.77\n",
            "Seu IMC é: 23.30\n",
            "Peso ideal\n"
          ]
        }
      ]
    },
    {
      "cell_type": "code",
      "source": [
        "# Exibir o menu de doação\n",
        "print(\"-----------------\")\n",
        "print(\"CRIANÇA ESPERANÇA\")\n",
        "print(\"-----------------\")\n",
        "print(\"[1] PARA DOAR R$10\")\n",
        "print(\"[2] PARA DOAR R$20\")\n",
        "print(\"[3] PARA DOAR R$50\")\n",
        "print(\"[4] PARA DOAR OUTRO VALOR\")\n",
        "print(\"[5] PARA CANCELAR\")\n",
        "\n",
        "# Receber a escolha do usuário\n",
        "opcao = int(input(\"Escolha uma opção: \"))\n",
        "\n",
        "# Inicializar o valor da doação\n",
        "valor_doacao = 0\n",
        "\n",
        "# Processar a escolha do usuário\n",
        "if opcao == 1:\n",
        "    valor_doacao = 10\n",
        "    print(\"Obrigado por doar R$10\")\n",
        "elif opcao == 2:\n",
        "    valor_doacao = 20\n",
        "    print(\"Obrigado por doar R$20\")\n",
        "elif opcao == 3:\n",
        "    valor_doacao = 50\n",
        "    print(\"Obrigado por doar R$50\")\n",
        "elif opcao == 4:\n",
        "    valor_doacao = int(input(\"Valor da doação: R$\"))\n",
        "    print(f\"Obrigado por doar R${valor_doacao}\")\n",
        "elif opcao == 5:\n",
        "    print(\"Você escolheu cancelar a doação.\")\n",
        "else:\n",
        "    print(\"Opção inválida.\")\n",
        "\n",
        "# Exibir a confirmação da doação, se houver uma doação válida\n",
        "if opcao in [1, 2, 3, 4]:\n",
        "    print(\"-----------------\")\n",
        "    print(\"Sua doação foi de: R$\", valor_doacao)\n",
        "    print(\"-----------------\")\n",
        "    print(\"Muito obrigado!\")\n",
        "elif opcao == 5:\n",
        "    print(\"Nenhuma doação foi realizada.\")"
      ],
      "metadata": {
        "colab": {
          "base_uri": "https://localhost:8080/"
        },
        "id": "tB6FHPVOBY-f",
        "outputId": "69e738a4-7927-4243-9f20-eb2832872959"
      },
      "execution_count": null,
      "outputs": [
        {
          "output_type": "stream",
          "name": "stdout",
          "text": [
            "-----------------\n",
            "CRIANÇA ESPERANÇA\n",
            "-----------------\n",
            "[1] PARA DOAR R$10\n",
            "[2] PARA DOAR R$20\n",
            "[3] PARA DOAR R$50\n",
            "[4] PARA DOAR OUTRO VALOR\n",
            "[5] PARA CANCELAR\n",
            "Escolha uma opção: 4\n",
            "Valor da doação: R$200\n",
            "Obrigado por doar R$200\n",
            "-----------------\n",
            "Sua doação foi de: R$ 200\n",
            "-----------------\n",
            "Muito obrigado!\n"
          ]
        }
      ]
    },
    {
      "cell_type": "code",
      "source": [
        "nome = input(\"Qual o nome do funcionário: \")  # Receber o nome como string\n",
        "salario = float(input(\"Qual o salário do funcionário: \"))  # Receber o salário como float\n",
        "dep = int(input(\"Qual é a quantidade de dependentes: \"))  # Receber a quantidade de dependentes como inteiro\n",
        "\n",
        "# Calcular o novo salário com base na quantidade de dependentes\n",
        "if dep == 0:\n",
        "    nsalario = salario + (salario * 5 / 100)\n",
        "elif dep in [1, 2, 3]:  # Usar \"in\" para verificar se o número de dependentes está na lista [1, 2, 3]\n",
        "    nsalario = salario + (salario * 10 / 100)\n",
        "elif dep in [4, 5, 6]:  # Usar \"in\" para verificar se o número de dependentes está na lista [4, 5, 6]\n",
        "    nsalario = salario + (salario * 15 / 100)\n",
        "elif dep > 6:\n",
        "    nsalario = salario + (salario * 18 / 100)\n",
        "else:\n",
        "    nsalario = salario  # Caso de erro ou número negativo, o salário permanece o mesmo\n",
        "\n",
        "# Exibir o novo salário\n",
        "print(f\"O novo salário de {nome} é: R$ {nsalario:.2f}\")"
      ],
      "metadata": {
        "colab": {
          "base_uri": "https://localhost:8080/"
        },
        "id": "btgoHH6aFph5",
        "outputId": "999dbdcd-b9f5-4ff6-d4e6-7cdce26920e6"
      },
      "execution_count": null,
      "outputs": [
        {
          "output_type": "stream",
          "name": "stdout",
          "text": [
            "Qual o nome do funcionário: Amanda\n",
            "Qual o salário do funcionário: 10000\n",
            "Qual é a quantidade de dependentes: 2\n",
            "O novo salário de Amanda é: R$ 11000.00\n"
          ]
        }
      ]
    },
    {
      "cell_type": "code",
      "source": [
        "contador = 0\n",
        "while contador <= 5:\n",
        "    print(contador)\n",
        "    contador += 1  # Isso é equivalente a contador = contador + 1\n",
        "print(\"Terminei de contar\")"
      ],
      "metadata": {
        "colab": {
          "base_uri": "https://localhost:8080/"
        },
        "id": "2t_fqe5LJTgP",
        "outputId": "ffc8f3d8-833a-49f4-e7f3-fbeec6c3e970"
      },
      "execution_count": null,
      "outputs": [
        {
          "output_type": "stream",
          "name": "stdout",
          "text": [
            "0\n",
            "1\n",
            "2\n",
            "3\n",
            "4\n",
            "5\n",
            "Terminei de contar\n"
          ]
        }
      ]
    },
    {
      "cell_type": "code",
      "source": [
        "contador = 0\n",
        "while contador <= 100:\n",
        "    print(contador)\n",
        "    contador += 10  # Incrementa o contador de 10 em 10\n",
        "print(\"Terminei de contar\")"
      ],
      "metadata": {
        "colab": {
          "base_uri": "https://localhost:8080/"
        },
        "id": "W3pT4LzlKP5L",
        "outputId": "0eb571db-4645-4cad-da2d-bb51cccadf74"
      },
      "execution_count": null,
      "outputs": [
        {
          "output_type": "stream",
          "name": "stdout",
          "text": [
            "0\n",
            "10\n",
            "20\n",
            "30\n",
            "40\n",
            "50\n",
            "60\n",
            "70\n",
            "80\n",
            "90\n",
            "100\n",
            "Terminei de contar\n"
          ]
        }
      ]
    },
    {
      "cell_type": "code",
      "source": [
        "contador = 10\n",
        "while contador >= 0:\n",
        "    print(contador)\n",
        "    contador -= 1\n",
        "print(\"Terminei de contar\")"
      ],
      "metadata": {
        "colab": {
          "base_uri": "https://localhost:8080/"
        },
        "id": "qYwdcV9CKWHc",
        "outputId": "c36d3ca2-4f80-4a63-fb8f-68769d656d68"
      },
      "execution_count": null,
      "outputs": [
        {
          "output_type": "stream",
          "name": "stdout",
          "text": [
            "10\n",
            "9\n",
            "8\n",
            "7\n",
            "6\n",
            "5\n",
            "4\n",
            "3\n",
            "2\n",
            "1\n",
            "0\n",
            "Terminei de contar\n"
          ]
        }
      ]
    },
    {
      "cell_type": "code",
      "source": [
        "valor = int(input(\"Digite um valor: \"))\n",
        "contador = 0\n",
        "while contador <= valor:\n",
        "    print(contador)\n",
        "    contador += 1\n",
        "print(\"Terminei de contar\")"
      ],
      "metadata": {
        "colab": {
          "base_uri": "https://localhost:8080/"
        },
        "id": "_kM_30G8KrrD",
        "outputId": "5559c099-ac6f-4331-9e43-7079271b7d7c"
      },
      "execution_count": null,
      "outputs": [
        {
          "output_type": "stream",
          "name": "stdout",
          "text": [
            "Digite um valor: 7\n",
            "0\n",
            "1\n",
            "2\n",
            "3\n",
            "4\n",
            "5\n",
            "6\n",
            "7\n",
            "Terminei de contar\n"
          ]
        }
      ]
    },
    {
      "cell_type": "code",
      "source": [
        "valor = int(input(\"Digite um valor: \"))\n",
        "contador = 0\n",
        "while contador <= valor:\n",
        "    print(contador)\n",
        "    contador += 5\n",
        "print(\"Terminei de contar\")"
      ],
      "metadata": {
        "colab": {
          "base_uri": "https://localhost:8080/"
        },
        "id": "7W7-xWb-LQdz",
        "outputId": "6c1d2c69-77a5-421d-9796-3aaf70cf4421"
      },
      "execution_count": null,
      "outputs": [
        {
          "output_type": "stream",
          "name": "stdout",
          "text": [
            "Digite um valor: 40\n",
            "0\n",
            "5\n",
            "10\n",
            "15\n",
            "20\n",
            "25\n",
            "30\n",
            "35\n",
            "40\n",
            "Terminei de contar\n"
          ]
        }
      ]
    },
    {
      "cell_type": "code",
      "source": [
        "soma = 0\n",
        "contador = 1\n",
        "while contador <= 4:\n",
        "    N = int(input(f\"Digite o {contador} valor: \"))\n",
        "    soma += N  # Adiciona o valor digitado à soma\n",
        "    contador += 1\n",
        "print(\"O valor da soma foi de\", soma)"
      ],
      "metadata": {
        "colab": {
          "base_uri": "https://localhost:8080/"
        },
        "id": "jUK1pP16Lu0J",
        "outputId": "27b64b69-2fe4-408c-8aac-cdd857e2d4c1"
      },
      "execution_count": null,
      "outputs": [
        {
          "output_type": "stream",
          "name": "stdout",
          "text": [
            "Digite o 1 valor: 3\n",
            "Digite o 2 valor: 4\n",
            "Digite o 3 valor: 5\n",
            "Digite o 4 valor: 6\n",
            "O valor da soma foi de 18\n"
          ]
        }
      ]
    },
    {
      "cell_type": "code",
      "source": [
        "soma = 0\n",
        "contador = 1\n",
        "Maior = float('-inf')  # Inicializa a variável Maior com um valor muito baixo\n",
        "\n",
        "while contador <= 4:\n",
        "    N = int(input(f\"Digite o {contador} valor: \"))\n",
        "    if N > Maior:\n",
        "        Maior = N\n",
        "    soma += N  # Adiciona o valor digitado à soma\n",
        "    contador += 1\n",
        "\n",
        "print(\"O valor da soma foi de\", soma)\n",
        "print(\"O maior valor digitado foi\", Maior)"
      ],
      "metadata": {
        "colab": {
          "base_uri": "https://localhost:8080/"
        },
        "id": "hhHkrmgTPGq1",
        "outputId": "e29bc804-596e-4d50-bc14-4c4e522d8e19"
      },
      "execution_count": null,
      "outputs": [
        {
          "output_type": "stream",
          "name": "stdout",
          "text": [
            "Digite o 1 valor: 4\n",
            "Digite o 2 valor: 9\n",
            "Digite o 3 valor: 2\n",
            "Digite o 4 valor: 3\n",
            "O valor da soma foi de 18\n",
            "O maior valor digitado foi 9\n"
          ]
        }
      ]
    },
    {
      "cell_type": "code",
      "source": [
        "soma = 0\n",
        "contador = 1\n",
        "maior = float('-inf')\n",
        "menor = float('inf')\n",
        "\n",
        "while contador <= 4:\n",
        "    N = int(input(f\"Digite o {contador} valor: \"))\n",
        "    if N > maior:\n",
        "        maior = N\n",
        "    if N < menor:\n",
        "        menor = N\n",
        "    soma += N  # Atualiza a soma com o valor digitado\n",
        "    contador += 1  # Atualiza o contador\n",
        "\n",
        "print(\"O valor total da soma foi de\", soma)\n",
        "print(\"O maior valor digitado foi\", maior)\n",
        "print(\"O menor valor digitado foi\", menor)"
      ],
      "metadata": {
        "colab": {
          "base_uri": "https://localhost:8080/"
        },
        "id": "s6eu_ewMPXuX",
        "outputId": "2bb872d9-699c-43b6-ec4b-546db102bc81"
      },
      "execution_count": null,
      "outputs": [
        {
          "output_type": "stream",
          "name": "stdout",
          "text": [
            "Digite o 1 valor: 3\n",
            "Digite o 2 valor: 6\n",
            "Digite o 3 valor: 9\n",
            "Digite o 4 valor: 1\n",
            "O valor total da soma foi de 19\n",
            "O maior valor digitado foi 9\n",
            "O menor valor digitado foi 1\n"
          ]
        }
      ]
    },
    {
      "cell_type": "code",
      "source": [
        "C = 1\n",
        "Q = int(input(\"Quantas vezes vocÊ quer converter:\"))\n",
        "while (C <= Q):\n",
        "  R = float(input(\"Qual o valor em R$: \"))\n",
        "  D  = R/2.20\n",
        "  print(f\"O valor convertido em U$ {D:.2f}\")\n",
        "  C = C + 1"
      ],
      "metadata": {
        "colab": {
          "base_uri": "https://localhost:8080/"
        },
        "id": "9QfIYeCaSCZJ",
        "outputId": "2d894484-bc72-4d3f-f67e-07962e5c8f91"
      },
      "execution_count": null,
      "outputs": [
        {
          "output_type": "stream",
          "name": "stdout",
          "text": [
            "Quantas vezes vocÊ quer converter:3\n",
            "Qual o valor em R$: 40\n",
            "O valor convertido em U$ 18.18\n",
            "Qual o valor em R$: 20\n",
            "O valor convertido em U$ 9.09\n",
            "Qual o valor em R$: 50\n",
            "O valor convertido em U$ 22.73\n"
          ]
        }
      ]
    },
    {
      "cell_type": "code",
      "source": [
        "S = 0\n",
        "resposta = \"s\"\n",
        "\n",
        "while resposta == \"s\":\n",
        "    N = int(input(\"Digite o valor ==> \"))\n",
        "    S += N  # Atualiza a soma com o valor digitado\n",
        "    resposta = input(\"Deseja continuar? [S/N] \").lower()  # Lê a resposta e converte para minúsculas\n",
        "\n",
        "print(\"O valor total da soma foi de\", S)"
      ],
      "metadata": {
        "colab": {
          "base_uri": "https://localhost:8080/"
        },
        "id": "aRXDQnkA8enu",
        "outputId": "caf94863-09e5-44d9-ee18-bac6d8c327ce"
      },
      "execution_count": null,
      "outputs": [
        {
          "output_type": "stream",
          "name": "stdout",
          "text": [
            "Digite o valor ==> 5\n",
            "Deseja continuar? [S/N] s\n",
            "Digite o valor ==> 8\n",
            "Deseja continuar? [S/N] s\n",
            "Digite o valor ==> 15\n",
            "Deseja continuar? [S/N] n\n",
            "O valor total da soma foi de 28\n"
          ]
        }
      ]
    },
    {
      "cell_type": "code",
      "source": [
        "S = 0\n",
        "resposta = \"s\"\n",
        "\n",
        "while True:  # Cria um loop que sempre executa\n",
        "    N = int(input(\"Digite o valor ==> \"))\n",
        "    S += N  # Atualiza a soma com o valor digitado\n",
        "    resposta = input(\"Deseja continuar? [S/N] \").lower()  # Lê a resposta e converte para minúsculas\n",
        "\n",
        "    if resposta == \"n\":  # Verifica se a resposta é \"não\"\n",
        "        break  # Sai do loop se a resposta for \"não\"\n",
        "\n",
        "print(\"O valor total da soma foi de\", S)"
      ],
      "metadata": {
        "colab": {
          "base_uri": "https://localhost:8080/"
        },
        "id": "jZyk_xQy-nls",
        "outputId": "3a66ab95-8565-4d08-e792-ee3cf3f1787f"
      },
      "execution_count": null,
      "outputs": [
        {
          "output_type": "stream",
          "name": "stdout",
          "text": [
            "Digite o valor ==> 3\n",
            "Deseja continuar? [S/N] s\n",
            "Digite o valor ==> 5\n",
            "Deseja continuar? [S/N] s\n",
            "Digite o valor ==> 6\n",
            "Deseja continuar? [S/N] n\n",
            "O valor total da soma foi de 14\n"
          ]
        }
      ]
    },
    {
      "cell_type": "code",
      "source": [
        "cont = 1  # Inicializa o contador\n",
        "\n",
        "while cont <= 10:  # O loop continua enquanto cont for menor ou igual a 10\n",
        "    print(\"cont:\", cont)\n",
        "    cont = cont + 1  # Incrementa o contador a cada iteração\n",
        "\n",
        "# O loop termina quando cont é maior que 10"
      ],
      "metadata": {
        "colab": {
          "base_uri": "https://localhost:8080/"
        },
        "id": "buVyf5Kf_C-U",
        "outputId": "8af91028-918a-48c1-cc7c-0f5709d9a829"
      },
      "execution_count": null,
      "outputs": [
        {
          "output_type": "stream",
          "name": "stdout",
          "text": [
            "cont: 1\n",
            "cont: 2\n",
            "cont: 3\n",
            "cont: 4\n",
            "cont: 5\n",
            "cont: 6\n",
            "cont: 7\n",
            "cont: 8\n",
            "cont: 9\n",
            "cont: 10\n"
          ]
        }
      ]
    },
    {
      "cell_type": "code",
      "source": [
        "cont = 1\n",
        "N = int(input(\"Quer ver a tabuada de qual número:\"))\n",
        "while cont <= 10:\n",
        "    resultado = N * cont\n",
        "    print(N , \"x\", cont, \" = \", resultado)\n",
        "    cont = cont + 1"
      ],
      "metadata": {
        "colab": {
          "base_uri": "https://localhost:8080/"
        },
        "id": "Oh5GKOeTAM98",
        "outputId": "2a01d8a9-dc83-4774-ff9d-87e8ef04536a"
      },
      "execution_count": null,
      "outputs": [
        {
          "output_type": "stream",
          "name": "stdout",
          "text": [
            "Quer ver a tabuada de qual número:20\n",
            "20 x 1  =  20\n",
            "20 x 2  =  40\n",
            "20 x 3  =  60\n",
            "20 x 4  =  80\n",
            "20 x 5  =  100\n",
            "20 x 6  =  120\n",
            "20 x 7  =  140\n",
            "20 x 8  =  160\n",
            "20 x 9  =  180\n",
            "20 x 10  =  200\n"
          ]
        }
      ]
    },
    {
      "cell_type": "code",
      "source": [
        "N = int(input(\"Digite um número: \"))\n",
        "cont = 1\n",
        "\n",
        "while cont <= 5:\n",
        "    print(N + cont)  # Imprime o próximo número\n",
        "    cont = cont + 1  # Incrementa o contador"
      ],
      "metadata": {
        "colab": {
          "base_uri": "https://localhost:8080/"
        },
        "id": "vYfAZBnaBVBT",
        "outputId": "df499b3e-7000-47f3-fe6f-3ade2e8c0f7e"
      },
      "execution_count": null,
      "outputs": [
        {
          "output_type": "stream",
          "name": "stdout",
          "text": [
            "Digite um número: 3\n",
            "4\n",
            "5\n",
            "6\n",
            "7\n",
            "8\n"
          ]
        }
      ]
    },
    {
      "cell_type": "code",
      "source": [
        "cont = 1\n",
        "Neg = 0\n",
        "\n",
        "while cont <= 5:\n",
        "    N = int(input(\"Digite um número: \"))\n",
        "    if N < 0:\n",
        "        Neg = Neg + 1\n",
        "    cont = cont + 1  # Incrementa o contador\n",
        "\n",
        "print(\"Foram digitados\", Neg, \"números negativos\")"
      ],
      "metadata": {
        "colab": {
          "base_uri": "https://localhost:8080/"
        },
        "id": "tDv1qFmEDWrJ",
        "outputId": "3056cda3-51a4-4a3a-80ec-5a52c4f01932"
      },
      "execution_count": null,
      "outputs": [
        {
          "output_type": "stream",
          "name": "stdout",
          "text": [
            "Digite um número: 2\n",
            "Digite um número: -5\n",
            "Digite um número: -4\n",
            "Digite um número: 3\n",
            "Digite um número: 1\n",
            "Foram digitados 2 números negativos\n"
          ]
        }
      ]
    },
    {
      "cell_type": "code",
      "source": [
        "N = int(input(\"Digite um número: \"))\n",
        "C = N\n",
        "F = 1\n",
        "while C > 1:\n",
        "  F = F * C\n",
        "  C = C - 1\n",
        "print(\"O valor do fatorial de\", N , \"é igual a\", F)"
      ],
      "metadata": {
        "colab": {
          "base_uri": "https://localhost:8080/"
        },
        "id": "JCQIqHD0E14B",
        "outputId": "0293d8e1-5f32-45c6-dbeb-8b378ee258d8"
      },
      "execution_count": null,
      "outputs": [
        {
          "output_type": "stream",
          "name": "stdout",
          "text": [
            "Digite um número: 5\n",
            "O valor do fatorial de 5 é igual a 120\n"
          ]
        }
      ]
    },
    {
      "cell_type": "code",
      "source": [
        "while True:\n",
        "    N = int(input(\"Digite um número: \"))\n",
        "    C = N\n",
        "    F = 1\n",
        "\n",
        "    while C > 1:\n",
        "        F = F * C\n",
        "        C = C - 1\n",
        "\n",
        "    print(\"O valor do fatorial de\", N, \"é igual a\", F)\n",
        "\n",
        "    R = input(\"Deseja continuar? [S/N] \").lower()\n",
        "    if R == 'n':\n",
        "        break"
      ],
      "metadata": {
        "colab": {
          "base_uri": "https://localhost:8080/"
        },
        "id": "jAUTUqupHKYA",
        "outputId": "d528eb92-3978-43c7-91a1-d58447cac3b3"
      },
      "execution_count": null,
      "outputs": [
        {
          "name": "stdout",
          "output_type": "stream",
          "text": [
            "Digite um número: 2\n",
            "O valor do fatorial de 2 é igual a 2\n",
            "Deseja continuar? [S/N] N\n"
          ]
        }
      ]
    },
    {
      "cell_type": "code",
      "source": [
        "C = 1\n",
        "N = int(input(\"Digite um número: \"))\n",
        "contdiv = 0\n",
        "while C <= N:\n",
        "  if (N % C == 0):\n",
        "    contdiv = contdiv + 1\n",
        "  C = C + 1\n",
        "\n",
        "if contdiv == 2:\n",
        "  print(\"O número é primo\")\n",
        "else:\n",
        "  print(\"O número não é primo\")\n"
      ],
      "metadata": {
        "colab": {
          "base_uri": "https://localhost:8080/"
        },
        "id": "f93IcWWSJ3On",
        "outputId": "53920edf-fd1d-443f-f5ad-1783d73d4205"
      },
      "execution_count": null,
      "outputs": [
        {
          "output_type": "stream",
          "name": "stdout",
          "text": [
            "Digite um número: 7\n",
            "O número é primo\n"
          ]
        }
      ]
    },
    {
      "cell_type": "code",
      "source": [
        "for C in range(1, 11):\n",
        "    print(C)\n"
      ],
      "metadata": {
        "colab": {
          "base_uri": "https://localhost:8080/"
        },
        "id": "u7DJIBeDNPjV",
        "outputId": "7fb39fe3-a545-4494-c9a6-372260b2c52e"
      },
      "execution_count": null,
      "outputs": [
        {
          "output_type": "stream",
          "name": "stdout",
          "text": [
            "1\n",
            "2\n",
            "3\n",
            "4\n",
            "5\n",
            "6\n",
            "7\n",
            "8\n",
            "9\n",
            "10\n"
          ]
        }
      ]
    },
    {
      "cell_type": "code",
      "source": [
        "for C in range(1, 11, 2):\n",
        "    print(C)"
      ],
      "metadata": {
        "colab": {
          "base_uri": "https://localhost:8080/"
        },
        "id": "cD8QdzHgPBT8",
        "outputId": "715e6c66-c3d0-4405-fc84-ce2f701da095"
      },
      "execution_count": null,
      "outputs": [
        {
          "output_type": "stream",
          "name": "stdout",
          "text": [
            "1\n",
            "3\n",
            "5\n",
            "7\n",
            "9\n"
          ]
        }
      ]
    },
    {
      "cell_type": "code",
      "source": [
        "for C in range(10, 0, -1):\n",
        "    print(C)"
      ],
      "metadata": {
        "colab": {
          "base_uri": "https://localhost:8080/"
        },
        "id": "0toSwjdJPUab",
        "outputId": "4ff248b3-8b99-4146-b109-f914c9c07896"
      },
      "execution_count": null,
      "outputs": [
        {
          "output_type": "stream",
          "name": "stdout",
          "text": [
            "10\n",
            "9\n",
            "8\n",
            "7\n",
            "6\n",
            "5\n",
            "4\n",
            "3\n",
            "2\n",
            "1\n"
          ]
        }
      ]
    },
    {
      "cell_type": "code",
      "source": [
        "S = 0\n",
        "for C in range(1, 6):\n",
        "  N = int(input(\"Digite um número: \"))\n",
        "  S = S + N\n",
        "print(\"O valor da soma foi de\", S)"
      ],
      "metadata": {
        "colab": {
          "base_uri": "https://localhost:8080/"
        },
        "id": "afWfpov0P7Zd",
        "outputId": "0feaeaa9-86f9-4a1c-f81a-d623e4dd7df6"
      },
      "execution_count": null,
      "outputs": [
        {
          "output_type": "stream",
          "name": "stdout",
          "text": [
            "Digite um número: 6\n",
            "Digite um número: 3\n",
            "Digite um número: 4\n",
            "Digite um número: 2\n",
            "Digite um número: 7\n",
            "O valor da soma foi de 22\n"
          ]
        }
      ]
    },
    {
      "cell_type": "code",
      "source": [
        "V = int(input(\"Digite um valor: \"))\n",
        "for C in range(0, V, 2):\n",
        "  print(C)"
      ],
      "metadata": {
        "colab": {
          "base_uri": "https://localhost:8080/"
        },
        "id": "PuAnF8c6Qymr",
        "outputId": "c6cc122e-4e87-429c-bf9d-63b23017b1b5"
      },
      "execution_count": null,
      "outputs": [
        {
          "output_type": "stream",
          "name": "stdout",
          "text": [
            "Digite um valor: 7\n",
            "0\n",
            "2\n",
            "4\n",
            "6\n"
          ]
        }
      ]
    },
    {
      "cell_type": "code",
      "source": [
        "V = int(input(\"Digite um valor: \"))\n",
        "if V % 2 == 1:\n",
        "  V = V -1\n",
        "for C in range(V, 0, -2):\n",
        "    print(C)"
      ],
      "metadata": {
        "colab": {
          "base_uri": "https://localhost:8080/"
        },
        "id": "PhWDpo0vRTCa",
        "outputId": "ef4254d3-6167-48a2-d159-f795c5c1880b"
      },
      "execution_count": null,
      "outputs": [
        {
          "output_type": "stream",
          "name": "stdout",
          "text": [
            "Digite um valor: 7\n",
            "6\n",
            "4\n",
            "2\n"
          ]
        }
      ]
    },
    {
      "cell_type": "code",
      "source": [
        "Tot010 = 0\n",
        "for C in range(1, 7):\n",
        "  V = int(input(\"Digite um valor: \"))\n",
        "  if (V >= 0) and ( V <= 10):\n",
        "    Tot010 = Tot010 + 1\n",
        "print(\"Foram digitados\", Tot010, \"valores entre 0 e 10\")"
      ],
      "metadata": {
        "colab": {
          "base_uri": "https://localhost:8080/"
        },
        "id": "VSwZAsPXSERY",
        "outputId": "608d92f2-1226-40a0-d4c9-20d6f6e3031d"
      },
      "execution_count": null,
      "outputs": [
        {
          "output_type": "stream",
          "name": "stdout",
          "text": [
            "Digite um valor: 2\n",
            "Digite um valor: 11\n",
            "Digite um valor: 4\n",
            "Digite um valor: 6\n",
            "Digite um valor: 15\n",
            "Digite um valor: 3\n",
            "Foram digitados 4 valores entre 0 e 10\n"
          ]
        }
      ]
    },
    {
      "cell_type": "code",
      "source": [
        "Tot010 = 0\n",
        "Simpar = 0\n",
        "for C in range(1, 7):\n",
        "  V = int(input(\"Digite um valor: \"))\n",
        "  if (V >= 0) and ( V <= 10):\n",
        "    Tot010 = Tot010 + 1\n",
        "    if (V % 2 == 1):\n",
        "      Simpar = Simpar + V\n",
        "print(\"Foram digitados\", Tot010, \"valores entre 0 e 10\")\n",
        "print(\"Nesse intervalo a soma de ímpares foi\", Simpar)"
      ],
      "metadata": {
        "colab": {
          "base_uri": "https://localhost:8080/"
        },
        "id": "9fvYIlWYTHAz",
        "outputId": "2d334a2d-28bb-4bab-b4ef-a6b0863b78c5"
      },
      "execution_count": null,
      "outputs": [
        {
          "output_type": "stream",
          "name": "stdout",
          "text": [
            "Digite um valor: 1\n",
            "Digite um valor: 2\n",
            "Digite um valor: 3\n",
            "Digite um valor: 11\n",
            "Digite um valor: 22\n",
            "Digite um valor: 33\n",
            "Foram digitados 3 valores entre 0 e 10\n",
            "Nesse intervalo a soma de ímpares foi 4\n"
          ]
        }
      ]
    },
    {
      "cell_type": "code",
      "source": [
        "Tot010 = 0\n",
        "SimparFora = 0\n",
        "\n",
        "for C in range(1, 7):\n",
        "    V = int(input(\"Digite um valor: \"))\n",
        "    if 0 <= V <= 10:\n",
        "        Tot010 += 1\n",
        "    else:\n",
        "        if V % 2 == 1:\n",
        "            SimparFora += V\n",
        "\n",
        "print(\"Foram digitados\", Tot010, \"valores entre 0 e 10\")\n",
        "print(\"Fora desse intervalo, a soma dos ímpares foi\", SimparFora)"
      ],
      "metadata": {
        "colab": {
          "base_uri": "https://localhost:8080/"
        },
        "id": "CBTECyDuT-ZT",
        "outputId": "7ce18528-e142-434b-abcc-939b12cae7e6"
      },
      "execution_count": null,
      "outputs": [
        {
          "output_type": "stream",
          "name": "stdout",
          "text": [
            "Digite um valor: 1\n",
            "Digite um valor: 2\n",
            "Digite um valor: 3\n",
            "Digite um valor: 11\n",
            "Digite um valor: 22\n",
            "Digite um valor: 33\n",
            "Foram digitados 3 valores entre 0 e 10\n",
            "Fora desse intervalo, a soma dos ímpares foi 44\n"
          ]
        }
      ]
    },
    {
      "cell_type": "code",
      "source": [
        "for C1 in range(1, 4):\n",
        "  for C2 in range(1, 4):\n",
        "    print(C1, C2)"
      ],
      "metadata": {
        "colab": {
          "base_uri": "https://localhost:8080/"
        },
        "id": "1dCW7FBGUoLy",
        "outputId": "654f401e-873e-4afd-b088-e70bdd5c94f8"
      },
      "execution_count": null,
      "outputs": [
        {
          "output_type": "stream",
          "name": "stdout",
          "text": [
            "1 1\n",
            "1 2\n",
            "1 3\n",
            "2 1\n",
            "2 2\n",
            "2 3\n",
            "3 1\n",
            "3 2\n",
            "3 3\n"
          ]
        }
      ]
    },
    {
      "cell_type": "code",
      "source": [
        "for C1 in range(1, 4):\n",
        "  for C2 in range(0, 3):\n",
        "    print(C1, C2)"
      ],
      "metadata": {
        "colab": {
          "base_uri": "https://localhost:8080/"
        },
        "id": "_8AJ43D3VLZx",
        "outputId": "83439d23-05e0-4b8d-e9db-009e9f002648"
      },
      "execution_count": null,
      "outputs": [
        {
          "output_type": "stream",
          "name": "stdout",
          "text": [
            "1 0\n",
            "1 1\n",
            "1 2\n",
            "2 0\n",
            "2 1\n",
            "2 2\n",
            "3 0\n",
            "3 1\n",
            "3 2\n"
          ]
        }
      ]
    },
    {
      "cell_type": "code",
      "source": [
        "def topo():\n",
        "    print(\"------------------\")\n",
        "    print(\"Medidor de peso\")\n",
        "    print(\"Maior peso até agora:\", Mai, \"kg\")\n",
        "    print(\"------------------\")\n",
        "\n",
        "# Inicializa as variáveis\n",
        "Mai = 0\n",
        "Pesado = \"\"\n",
        "\n",
        "# Exibe o estado inicial\n",
        "topo()\n",
        "\n",
        "for I in range(1, 3):\n",
        "    N = input(\"Digite o nome da pessoa: \")\n",
        "    P = float(input(\"Digite o peso de \" + N + \": \"))\n",
        "    if P > Mai:\n",
        "        Mai = P\n",
        "        Pesado = N\n",
        "topo()\n",
        "\n",
        "# Exibe o resultado final\n",
        "print(\"O\", Pesado, \"é o mais pesado com\", Mai, \"kg\")"
      ],
      "metadata": {
        "colab": {
          "base_uri": "https://localhost:8080/"
        },
        "id": "Fay9mOhQWA64",
        "outputId": "01ab86e9-2b17-42a2-cabf-73c8a2ac1206"
      },
      "execution_count": null,
      "outputs": [
        {
          "output_type": "stream",
          "name": "stdout",
          "text": [
            "------------------\n",
            "Medidor de peso\n",
            "Maior peso até agora: 0 kg\n",
            "------------------\n",
            "Digite o nome da pessoa: trator\n",
            "Digite o peso de trator: 10000\n",
            "Digite o nome da pessoa: fidalgo\n",
            "Digite o peso de fidalgo: 20000\n",
            "------------------\n",
            "Medidor de peso\n",
            "Maior peso até agora: 20000.0 kg\n",
            "------------------\n",
            "O fidalgo é o mais pesado com 20000.0 kg\n"
          ]
        }
      ]
    },
    {
      "cell_type": "code",
      "source": [
        "def topo():\n",
        "    print(\"------------------\")\n",
        "    print(\"Medidor de peso\")\n",
        "    print(\"Maior peso até agora:\", Mai, \"kg\")\n",
        "    print(\"------------------\")\n",
        "\n",
        "# Inicializa as variáveis\n",
        "Mai = 0\n",
        "Pesado = \"\"\n",
        "\n",
        "# Exibe o estado inicial\n",
        "topo()\n",
        "\n",
        "# Define o número máximo de pessoas\n",
        "numero_de_pessoas = 3\n",
        "\n",
        "for I in range(numero_de_pessoas):\n",
        "    N = input(\"Digite o nome da pessoa: \")\n",
        "    P = float(input(\"Digite o peso de \" + N + \": \"))\n",
        "    if P > Mai:\n",
        "        Mai = P\n",
        "        Pesado = N\n",
        "    topo()\n",
        "\n",
        "# Exibe o resultado final\n",
        "print(\"O\", Pesado, \"é o mais pesado com\", Mai, \"kg\")"
      ],
      "metadata": {
        "colab": {
          "base_uri": "https://localhost:8080/"
        },
        "id": "K9RdU8jqZiEg",
        "outputId": "a80ac716-191e-4b2f-a3c0-c79cb57dd416"
      },
      "execution_count": null,
      "outputs": [
        {
          "output_type": "stream",
          "name": "stdout",
          "text": [
            "------------------\n",
            "Medidor de peso\n",
            "Maior peso até agora: 0 kg\n",
            "------------------\n",
            "Digite o nome da pessoa: Jhonatan\n",
            "Digite o peso de Jhonatan: 75.5\n",
            "------------------\n",
            "Medidor de peso\n",
            "Maior peso até agora: 75.5 kg\n",
            "------------------\n",
            "Digite o nome da pessoa: AlN\n",
            "Digite o peso de AlN: 2000\n",
            "------------------\n",
            "Medidor de peso\n",
            "Maior peso até agora: 2000.0 kg\n",
            "------------------\n",
            "Digite o nome da pessoa: catapimba\n",
            "Digite o peso de catapimba: 30000\n",
            "------------------\n",
            "Medidor de peso\n",
            "Maior peso até agora: 30000.0 kg\n",
            "------------------\n",
            "O catapimba é o mais pesado com 30000.0 kg\n"
          ]
        }
      ]
    },
    {
      "cell_type": "code",
      "source": [
        "# Define a função Soma com anotações de tipo\n",
        "def Soma(A: int, B: int):\n",
        "    print(\"valor de\", A)\n",
        "    print(\"valor de\", B)\n",
        "    print(\"valor da soma de\", A + B)\n",
        "\n",
        "# Chama a função com os valores 5 e 3\n",
        "X = 5\n",
        "Y = 3\n",
        "Soma(X, Y)"
      ],
      "metadata": {
        "colab": {
          "base_uri": "https://localhost:8080/"
        },
        "id": "ItFrOAGmaflG",
        "outputId": "bef57ddd-5f66-41bc-d739-1632610e89e3"
      },
      "execution_count": null,
      "outputs": [
        {
          "output_type": "stream",
          "name": "stdout",
          "text": [
            "valor de 5\n",
            "valor de 3\n",
            "valor da soma de 8\n"
          ]
        }
      ]
    },
    {
      "cell_type": "code",
      "source": [
        "def ParOuImpar(v: int):\n",
        "    if v % 2 == 0:\n",
        "        print(\"O número é par\")\n",
        "    else:\n",
        "        print(\"O número é ímpar\")\n",
        "\n",
        "# Solicita a entrada do usuário e chama a função\n",
        "N = int(input(\"Digite um número: \"))\n",
        "ParOuImpar(N)"
      ],
      "metadata": {
        "colab": {
          "base_uri": "https://localhost:8080/"
        },
        "id": "edYFQ2oAcZEO",
        "outputId": "7b6dde17-c60d-442c-ec7f-d615189e664b"
      },
      "execution_count": null,
      "outputs": [
        {
          "output_type": "stream",
          "name": "stdout",
          "text": [
            "Digite um número: 7\n",
            "O número é ímpar\n"
          ]
        }
      ]
    },
    {
      "cell_type": "code",
      "source": [
        "def ParOuImpar(v: int):\n",
        "    print(\"o valor de v é\", N)\n",
        "    print(\"o valor de N é\", v)\n",
        "    if v % 2 == 0:\n",
        "        print(\"O número é par\")\n",
        "    else:\n",
        "        print(\"O número é ímpar\")\n",
        "\n",
        "N = int(input(\"Digite um número: \"))\n",
        "ParOuImpar(N)"
      ],
      "metadata": {
        "colab": {
          "base_uri": "https://localhost:8080/"
        },
        "id": "E25t-IJ3dhIF",
        "outputId": "227a449e-4ece-49b8-9a05-16370762504f"
      },
      "execution_count": null,
      "outputs": [
        {
          "output_type": "stream",
          "name": "stdout",
          "text": [
            "Digite um número: 6\n",
            "o valor de v é 6\n",
            "o valor de N é 6\n",
            "O número é par\n"
          ]
        }
      ]
    },
    {
      "cell_type": "code",
      "source": [
        "def Soma(A: int, B: int):\n",
        "    A= A + 1\n",
        "    B= B + 2\n",
        "    print(\"valor de\", A)\n",
        "    print(\"valor de\", B)\n",
        "    print(\"valor da soma de\", A + B)\n",
        "\n",
        "X = 4\n",
        "Y = 8\n",
        "Soma(X, Y)\n",
        "print(\"o valor de X é\",X)\n",
        "print(\"o valor de Y é\",Y)"
      ],
      "metadata": {
        "colab": {
          "base_uri": "https://localhost:8080/"
        },
        "id": "dLlSPwNxfZgN",
        "outputId": "5c1a78b0-a945-417a-8f60-2a44636991d5"
      },
      "execution_count": null,
      "outputs": [
        {
          "output_type": "stream",
          "name": "stdout",
          "text": [
            "valor de 5\n",
            "valor de 10\n",
            "valor da soma de 15\n",
            "o valor de X é 4\n",
            "o valor de Y é 8\n"
          ]
        }
      ]
    },
    {
      "cell_type": "code",
      "source": [
        "def Soma(A: list, B: list):\n",
        "    # Atualiza os valores dentro das listas\n",
        "    A[0] = A[0] + 1\n",
        "    B[0] = B[0] + 2\n",
        "    print(\"valor de\", A[0])\n",
        "    print(\"valor de\", B[0])\n",
        "    print(\"valor da soma de\", A[0] + B[0])\n",
        "\n",
        "# Inicializa as variáveis em listas\n",
        "X = [4]\n",
        "Y = [8]\n",
        "Soma(X, Y)\n",
        "print(\"o valor de X é\", X[0])\n",
        "print(\"o valor de Y é\", Y[0])\n"
      ],
      "metadata": {
        "colab": {
          "base_uri": "https://localhost:8080/"
        },
        "id": "fTH-4x5hgyJc",
        "outputId": "972d68c5-e59a-43cd-ce43-dfefcef8a754"
      },
      "execution_count": null,
      "outputs": [
        {
          "output_type": "stream",
          "name": "stdout",
          "text": [
            "valor de 5\n",
            "valor de 10\n",
            "valor da soma de 15\n",
            "o valor de X é 5\n",
            "o valor de Y é 10\n"
          ]
        }
      ]
    },
    {
      "cell_type": "code",
      "source": [
        "def ProxFibo(A: list, B: list, C: list):\n",
        "    C[0] = A[0] + B[0]  # Calcula o próximo número da sequência e armazena em C\n",
        "    print(C[0])         # Imprime o próximo número\n",
        "    A[0] = B[0]        # Atualiza A para o valor de B\n",
        "    B[0] = C[0]        # Atualiza B para o novo valor de C\n",
        "\n",
        "# Inicializa os dois primeiros números da sequência de Fibonacci\n",
        "T1 = [0]\n",
        "T2 = [1]\n",
        "\n",
        "# Imprime os dois primeiros números\n",
        "print(T1[0])\n",
        "print(T2[0])\n",
        "\n",
        "# Gera os próximos números na sequência de Fibonacci\n",
        "for _ in range(8):  # Gera os próximos 8 números (total de 10 números incluindo os dois primeiros)\n",
        "    ProxFibo(T1, T2, [0])  # Passa uma lista [0] para armazenar o próximo número"
      ],
      "metadata": {
        "colab": {
          "base_uri": "https://localhost:8080/"
        },
        "id": "G5KXYTy9huy6",
        "outputId": "6458b9c7-2088-4246-bff8-31d23f304222"
      },
      "execution_count": null,
      "outputs": [
        {
          "output_type": "stream",
          "name": "stdout",
          "text": [
            "0\n",
            "1\n",
            "1\n",
            "2\n",
            "3\n",
            "5\n",
            "8\n",
            "13\n",
            "21\n",
            "34\n"
          ]
        }
      ]
    },
    {
      "cell_type": "code",
      "source": [
        "def Soma(X: int, Y: int) -> int:\n",
        "    return X + Y  # Retorna a soma de X e Y\n",
        "\n",
        "# Solicita ao usuário os dois valores\n",
        "V1 = int(input(\"Digite o primeiro valor: \"))\n",
        "V2 = int(input(\"Digite o segundo valor: \"))\n",
        "\n",
        "# Chama a função Soma e armazena o resultado em S\n",
        "S = Soma(V1, V2)\n",
        "\n",
        "# Imprime o resultado\n",
        "print(\"O valor da soma é\", S)"
      ],
      "metadata": {
        "colab": {
          "base_uri": "https://localhost:8080/"
        },
        "id": "LLncDjqQ4k_J",
        "outputId": "bde7f458-8916-41a8-aacf-342aa9177cc6"
      },
      "execution_count": null,
      "outputs": [
        {
          "output_type": "stream",
          "name": "stdout",
          "text": [
            "Digite o primeiro valor: 5\n",
            "Digite o segundo valor: 8\n",
            "O valor da soma é 13\n"
          ]
        }
      ]
    },
    {
      "cell_type": "code",
      "source": [
        "def ParOuImpar(v: int):\n",
        "    if v % 2 == 0:\n",
        "        return \"par\"\n",
        "    else:\n",
        "        return \"ímpar\"\n",
        "\n",
        "N = int(input(\"Digite um número: \"))\n",
        "R = ParOuImpar(N)\n",
        "print(\"O número \", N , \"é um valor\", R)"
      ],
      "metadata": {
        "colab": {
          "base_uri": "https://localhost:8080/"
        },
        "id": "HzU5ywxR_-ug",
        "outputId": "3e616099-b56a-4895-eb40-35848c07da8d"
      },
      "execution_count": null,
      "outputs": [
        {
          "output_type": "stream",
          "name": "stdout",
          "text": [
            "Digite um número: 5\n",
            "O número  5 é um valor ímpar\n"
          ]
        }
      ]
    },
    {
      "cell_type": "code",
      "source": [
        "def Fatorial(V: int):\n",
        "    R = 1  # Inicializa R com 1, pois o fatorial de 1 é 1\n",
        "    for C in range(1, V + 1):  # O range vai até V (inclusive), por isso usamos V + 1\n",
        "        R = R * C  # Multiplica R pelo contador C\n",
        "    return R  # Retorna o resultado do fatorial\n",
        "\n",
        "# Solicita ao usuário um número inteiro\n",
        "N = int(input(\"Digite um número: \"))\n",
        "\n",
        "# Calcula o fatorial usando a função\n",
        "F = Fatorial(N)\n",
        "\n",
        "# Imprime o resultado\n",
        "print(\"O valor de\", N, \"é igual a\", F)"
      ],
      "metadata": {
        "colab": {
          "base_uri": "https://localhost:8080/"
        },
        "id": "jp8FtkVXBLzY",
        "outputId": "59b376d1-f147-4073-a4e5-e076b3d62f27"
      },
      "execution_count": null,
      "outputs": [
        {
          "output_type": "stream",
          "name": "stdout",
          "text": [
            "Digite um número: 5\n",
            "O valor de 5 é igual a 120\n"
          ]
        }
      ]
    },
    {
      "cell_type": "code",
      "source": [
        "def ProxFibo(A: list, B: list) -> int:\n",
        "    C = A[0] + B[0]  # Calcula o próximo número da sequência\n",
        "    A[0] = B[0]      # Atualiza A para o valor de B\n",
        "    B[0] = C         # Atualiza B para o novo valor C\n",
        "    return C         # Retorna o valor de C\n",
        "\n",
        "# Inicializa os dois primeiros números da sequência de Fibonacci\n",
        "T1 = [0]\n",
        "T2 = [1]\n",
        "\n",
        "# Imprime os dois primeiros números\n",
        "print(T1[0])\n",
        "print(T2[0])\n",
        "\n",
        "# Gera e imprime os próximos números na sequência de Fibonacci\n",
        "for _ in range(3):  # Gera os próximos 8 números (total de 10 números incluindo os dois primeiros)\n",
        "    T3 = ProxFibo(T1, T2)  # Calcula o próximo número da sequência\n",
        "    print(T3)"
      ],
      "metadata": {
        "colab": {
          "base_uri": "https://localhost:8080/"
        },
        "id": "HSp_7tLMFAeI",
        "outputId": "27b0d3f0-10f6-4df5-879a-1641b8554faa"
      },
      "execution_count": null,
      "outputs": [
        {
          "output_type": "stream",
          "name": "stdout",
          "text": [
            "0\n",
            "1\n",
            "1\n",
            "2\n",
            "3\n"
          ]
        }
      ]
    },
    {
      "cell_type": "code",
      "source": [
        "N = input(\"Digite seu nome: \")\n",
        "print(\"Total de letras do seu nome:\", len(N))"
      ],
      "metadata": {
        "colab": {
          "base_uri": "https://localhost:8080/"
        },
        "id": "RotLLtq4HuVt",
        "outputId": "3522124f-2c3f-46a3-ef87-4ce1582b8439"
      },
      "execution_count": null,
      "outputs": [
        {
          "output_type": "stream",
          "name": "stdout",
          "text": [
            "Digite seu nome: Jhonatan\n",
            "Total de letras do seu nome: 8\n"
          ]
        }
      ]
    },
    {
      "cell_type": "code",
      "source": [
        "N1 = input(\"Digite seu nome: \")\n",
        "N2 = input(\"Digite seu nome: \")\n",
        "print(\"Total de letras do seu nome:\", len(N1))\n",
        "print(\"Total de letras do seu nome:\", len(N2))"
      ],
      "metadata": {
        "colab": {
          "base_uri": "https://localhost:8080/"
        },
        "id": "IKfrE8Y4ISd1",
        "outputId": "2c96d046-8ea2-409d-a2e3-8f6d9024e213"
      },
      "execution_count": null,
      "outputs": [
        {
          "output_type": "stream",
          "name": "stdout",
          "text": [
            "Digite seu nome: Amanda\n",
            "Digite seu nome: Jhonatan\n",
            "Total de letras do seu nome: 6\n",
            "Total de letras do seu nome: 8\n"
          ]
        }
      ]
    },
    {
      "cell_type": "code",
      "source": [
        "N = input(\"Digite seu nome: \")\n",
        "print(\"Total de letras do seu nome:\", len(N))\n",
        "print(\"Seu nome em maiusculo:\", N.upper())\n",
        "print(\"Seu nome em minusculo:\", N.lower())\n",
        "print(\"A primeira letra do seu nome:\", N[0])\n",
        "print(\"A última letra do seu nome:\", N[-1])\n",
        "print(\"A posição da letra m:\", N.find(\"m\"))\n",
        "print(\"Seu nome ao contrário:\", N[::-1])"
      ],
      "metadata": {
        "colab": {
          "base_uri": "https://localhost:8080/"
        },
        "id": "YNuVxSbeIuAR",
        "outputId": "ddb501fe-1a04-4610-ade1-587b877d2d58"
      },
      "execution_count": null,
      "outputs": [
        {
          "output_type": "stream",
          "name": "stdout",
          "text": [
            "Digite seu nome: Amanda\n",
            "Total de letras do seu nome: 6\n",
            "Seu nome em maiusculo: AMANDA\n",
            "Seu nome em minusculo: amanda\n",
            "A primeira letra do seu nome: A\n",
            "A última letra do seu nome: a\n",
            "A posição da letra m: 1\n",
            "Seu nome ao contrário: adnamA\n"
          ]
        }
      ]
    },
    {
      "cell_type": "code",
      "source": [
        "# Variáveis\n",
        "v = [0] * 6  # Inicializa a lista `v` com 6 elementos, todos com valor 0\n",
        "c: int\n",
        "\n",
        "# Preenche o vetor com valores fornecidos pelo usuário\n",
        "for c in range(6):  # O loop vai de 0 a 5\n",
        "    v[c] = int(input(\"Digite um valor: \"))\n",
        "\n",
        "for c in range(6):\n",
        "    print(\"{\", v[c], \"}\")"
      ],
      "metadata": {
        "colab": {
          "base_uri": "https://localhost:8080/"
        },
        "id": "scT9zizULwVp",
        "outputId": "46b8236e-73a3-4b01-90e7-7666dea2ac5e"
      },
      "execution_count": null,
      "outputs": [
        {
          "output_type": "stream",
          "name": "stdout",
          "text": [
            "Digite um valor: 1\n",
            "Digite um valor: 2\n",
            "Digite um valor: 3\n",
            "Digite um valor: 4\n",
            "Digite um valor: 5\n",
            "Digite um valor: 6\n",
            "{ 1 }\n",
            "{ 2 }\n",
            "{ 3 }\n",
            "{ 4 }\n",
            "{ 5 }\n",
            "{ 6 }\n"
          ]
        }
      ]
    },
    {
      "cell_type": "code",
      "source": [
        "val = [0] * 7  # Inicializa a lista `val` com 7 elementos, todos com valor 0\n",
        "Totpar = 0\n",
        "\n",
        "for I in range(7):  # O loop vai de 0 a 6\n",
        "    val[I] = int(input(f\"Digite o {I + 1}º valor: \"))  # Usa `f-string` para formatar a mensagem corretamente\n",
        "    if val[I] % 2 == 0:  # Verifica se o valor é par\n",
        "        Totpar = Totpar + 1  # Incrementa o contador de pares\n",
        "\n",
        "print(\"O total de pares foi\", Totpar)\n",
        "for I in range(7):\n",
        "  if val[I] % 2 == 0:\n",
        "    print(\"Valor par na posição\", I)"
      ],
      "metadata": {
        "colab": {
          "base_uri": "https://localhost:8080/"
        },
        "id": "rIQWbL7IOXd3",
        "outputId": "3f9456f4-500a-47d4-a59b-82922627bb7e"
      },
      "execution_count": null,
      "outputs": [
        {
          "output_type": "stream",
          "name": "stdout",
          "text": [
            "Digite o 1º valor: 1\n",
            "Digite o 2º valor: 2\n",
            "Digite o 3º valor: 3\n",
            "Digite o 4º valor: 4\n",
            "Digite o 5º valor: 5\n",
            "Digite o 6º valor: 6\n",
            "Digite o 7º valor: 7\n",
            "O total de pares foi 3\n",
            "Valor par na posição 1\n",
            "Valor par na posição 3\n",
            "Valor par na posição 5\n"
          ]
        }
      ]
    },
    {
      "cell_type": "code",
      "source": [
        "val = [0] * 7  # Inicializa a lista `val` com 7 elementos, todos com valor 0\n",
        "Totpar = 0\n",
        "\n",
        "for I in range(7):  # O loop vai de 0 a 6\n",
        "    val[I] = int(input(f\"Digite o {I + 1}º valor: \"))  # Usa `f-string` para formatar a mensagem corretamente\n",
        "    if val[I] % 2 == 0:  # Verifica se o valor é par\n",
        "        Totpar = Totpar + 1\n",
        "        print(\"Valor par na posição\", I)\n",
        "\n",
        "print(\"O total de pares foi\", Totpar)"
      ],
      "metadata": {
        "colab": {
          "base_uri": "https://localhost:8080/"
        },
        "id": "Z4l_Nlw9RYz0",
        "outputId": "d6832515-be9d-41a0-9d5e-9cb77fdddc5d"
      },
      "execution_count": null,
      "outputs": [
        {
          "output_type": "stream",
          "name": "stdout",
          "text": [
            "Digite o 1º valor: 1\n",
            "Digite o 2º valor: 2\n",
            "Valor par na posição 1\n",
            "Digite o 3º valor: 3\n",
            "Digite o 4º valor: 4\n",
            "Valor par na posição 3\n",
            "Digite o 5º valor: 5\n",
            "Digite o 6º valor: 6\n",
            "Valor par na posição 5\n",
            "Digite o 7º valor: 7\n",
            "O total de pares foi 3\n"
          ]
        }
      ]
    },
    {
      "cell_type": "code",
      "source": [
        "val = [0] * 7  # Inicializa a lista `val` com 7 elementos, todos com valor 0\n",
        "Totpar = 0\n",
        "posicoes_pares = []  # Lista para armazenar as posições dos números pares\n",
        "\n",
        "for I in range(7):  # O loop vai de 0 a 6\n",
        "    val[I] = int(input(f\"Digite o {I + 1}º valor: \"))  # Usa `f-string` para formatar a mensagem corretamente\n",
        "    if val[I] % 2 == 0:  # Verifica se o valor é par\n",
        "        Totpar = Totpar + 1\n",
        "        posicoes_pares.append(I)  # Armazena a posição do número par\n",
        "\n",
        "# Exibe as posições dos valores pares\n",
        "if Totpar > 0:\n",
        "    print(\"Valores pares encontrados nas posições:\", posicoes_pares)\n",
        "else:\n",
        "    print(\"Nenhum valor par foi encontrado.\")\n",
        "\n",
        "# Exibe o total de números pares\n",
        "print(\"O total de pares foi\", Totpar)"
      ],
      "metadata": {
        "colab": {
          "base_uri": "https://localhost:8080/"
        },
        "id": "mLkjfgpcSbH5",
        "outputId": "e462c4eb-8eaf-4708-d140-cb8905b623b4"
      },
      "execution_count": null,
      "outputs": [
        {
          "output_type": "stream",
          "name": "stdout",
          "text": [
            "Digite o 1º valor: 1\n",
            "Digite o 2º valor: 2\n",
            "Digite o 3º valor: 3\n",
            "Digite o 4º valor: 4\n",
            "Digite o 5º valor: 5\n",
            "Digite o 6º valor: 6\n",
            "Digite o 7º valor: 7\n",
            "Valores pares encontrados nas posições: [1, 3, 5]\n",
            "O total de pares foi 3\n"
          ]
        }
      ]
    },
    {
      "cell_type": "code",
      "source": [
        "nome = [0] * 4  # Inicializa a lista `nome` com 4 elementos\n",
        "n1 = [0] * 4    # Inicializa a lista `n1` com 4 elementos\n",
        "n2 = [0] * 4    # Inicializa a lista `n2` com 4 elementos\n",
        "m = [0] * 4     # Inicializa a lista `m` com 4 elementos\n",
        "i: int\n",
        "\n",
        "# Entrada de dados e cálculo das médias\n",
        "for i in range(4):\n",
        "    print(\"ALUNO\", i + 1)  # Ajusta a numeração dos alunos para começar em 1\n",
        "    nome[i] = input(\"Nome: \")\n",
        "    n1[i] = float(input(\"Nota 1: \"))\n",
        "    n2[i] = float(input(\"Nota 2: \"))\n",
        "    m[i] = (n1[i] + n2[i]) / 2\n",
        "\n",
        "# Exibição da listagem de alunos e suas médias\n",
        "print(\"\\nListagem de alunos\")\n",
        "print(\"------------------\")\n",
        "for i in range(4):  # Corrige a sintaxe do `for`\n",
        "    print(f\"{nome[i]}: Média = {m[i]:.2f}\")  # Formata a média com 2 casas decimais"
      ],
      "metadata": {
        "colab": {
          "base_uri": "https://localhost:8080/"
        },
        "id": "Lli3hO6DTEQa",
        "outputId": "ca1f7114-2648-4c2a-c635-467a9a5f2ee2"
      },
      "execution_count": null,
      "outputs": [
        {
          "output_type": "stream",
          "name": "stdout",
          "text": [
            "ALUNO 1\n",
            "Nome: Amanda\n",
            "Nota 1: 10\n",
            "Nota 2: 9\n",
            "ALUNO 2\n",
            "Nome: Jhonatan\n",
            "Nota 1: 8\n",
            "Nota 2: 7\n",
            "ALUNO 3\n",
            "Nome: Kauan\n",
            "Nota 1: 6\n",
            "Nota 2: 5\n",
            "ALUNO 4\n",
            "Nome: Jay\n",
            "Nota 1: 4\n",
            "Nota 2: 3\n",
            "\n",
            "Listagem de alunos\n",
            "------------------\n",
            "Amanda:15: Média = 9.50\n",
            "Jhonatan:15: Média = 7.50\n",
            "Kauan:15: Média = 5.50\n",
            "Jay:15: Média = 3.50\n"
          ]
        }
      ]
    },
    {
      "cell_type": "code",
      "source": [
        "nome = [0] * 4  # Inicializa a lista `nome` com 4 elementos\n",
        "n1 = [0] * 4    # Inicializa a lista `n1` com 4 elementos\n",
        "n2 = [0] * 4    # Inicializa a lista `n2` com 4 elementos\n",
        "m = [0] * 4     # Inicializa a lista `m` com 4 elementos\n",
        "i: int\n",
        "\n",
        "# Entrada de dados e cálculo das médias\n",
        "for i in range(4):\n",
        "    print(\"ALUNO\", i + 1)  # Ajusta a numeração dos alunos para começar em 1\n",
        "    nome[i] = input(\"Nome: \")\n",
        "    n1[i] = float(input(\"Nota 1: \"))\n",
        "    n2[i] = float(input(\"Nota 2: \"))\n",
        "    m[i] = (n1[i] + n2[i]) / 2\n",
        "\n",
        "# Determina a largura máxima do nome para alinhar corretamente\n",
        "largura_maxima = max(len(n) for n in nome)\n",
        "\n",
        "# Exibição da listagem de alunos e suas médias\n",
        "print(\"\\nListagem de alunos\")\n",
        "print(\"------------------\")\n",
        "for i in range(4):\n",
        "    print(f\"{nome[i].rjust(largura_maxima)}: Média = {m[i]:.2f}\")"
      ],
      "metadata": {
        "colab": {
          "base_uri": "https://localhost:8080/"
        },
        "id": "Y4GQ3ZJoAFew",
        "outputId": "54ed36bf-cfda-47c2-ab09-0d658a38a5b6"
      },
      "execution_count": null,
      "outputs": [
        {
          "output_type": "stream",
          "name": "stdout",
          "text": [
            "ALUNO 1\n",
            "Nome: Amanda\n",
            "Nota 1: 10\n",
            "Nota 2: 9\n",
            "ALUNO 2\n",
            "Nome: Jhonatan\n",
            "Nota 1: 8\n",
            "Nota 2: 7\n",
            "ALUNO 3\n",
            "Nome: Kauan\n",
            "Nota 1: 6\n",
            "Nota 2: 5\n",
            "ALUNO 4\n",
            "Nome: Jay\n",
            "Nota 1: 4\n",
            "Nota 2: 3\n",
            "\n",
            "Listagem de alunos\n",
            "------------------\n",
            "  Amanda: Média = 9.50\n",
            "Jhonatan: Média = 7.50\n",
            "   Kauan: Média = 5.50\n",
            "     Jay: Média = 3.50\n"
          ]
        }
      ]
    },
    {
      "cell_type": "code",
      "source": [
        "nome = [0] * 4  # Inicializa a lista `nome` com 4 elementos\n",
        "n1 = [0] * 4    # Inicializa a lista `n1` com 4 elementos\n",
        "n2 = [0] * 4    # Inicializa a lista `n2` com 4 elementos\n",
        "m = [0] * 4     # Inicializa a lista `m` com 4 elementos\n",
        "i: int\n",
        "tot: int = 0  # Inicializa o contador de alunos acima da média\n",
        "Sm = 0\n",
        "\n",
        "# Entrada de dados e cálculo das médias\n",
        "for i in range(4):\n",
        "    print(\"ALUNO\", i + 1)  # Ajusta a numeração dos alunos para começar em 1\n",
        "    nome[i] = input(\"Nome: \")\n",
        "    n1[i] = float(input(\"Nota 1: \"))\n",
        "    n2[i] = float(input(\"Nota 2: \"))\n",
        "    m[i] = (n1[i] + n2[i]) / 2\n",
        "    Sm = Sm + m[i]\n",
        "\n",
        "# Calcula a média total\n",
        "Mt = Sm / 4\n",
        "\n",
        "# Determina a largura máxima do nome para alinhar corretamente\n",
        "largura_maxima = max(len(n) for n in nome)\n",
        "\n",
        "# Exibição da listagem de alunos e suas médias\n",
        "print(\"\\nListagem de alunos\")\n",
        "print(\"------------------\")\n",
        "for i in range(4):\n",
        "    print(f\"{nome[i].rjust(largura_maxima)}: Média = {m[i]:.2f}\")\n",
        "    if m[i] > Mt:  # Verifica se a média do aluno é maior que a média total\n",
        "        tot = tot + 1\n",
        "\n",
        "# Exibe o total de alunos acima da média\n",
        "print(f\"Ao todo temos {tot} alunos acima da média que é {Mt:.2f}\")"
      ],
      "metadata": {
        "colab": {
          "base_uri": "https://localhost:8080/"
        },
        "id": "-9s_MQaPAoFn",
        "outputId": "0f284ec3-1b4e-44da-ebd1-016c07079fbe"
      },
      "execution_count": null,
      "outputs": [
        {
          "output_type": "stream",
          "name": "stdout",
          "text": [
            "ALUNO 1\n",
            "Nome: Amanda\n",
            "Nota 1: 10\n",
            "Nota 2: 9.5\n",
            "ALUNO 2\n",
            "Nome: Jhonatan\n",
            "Nota 1: 8.2\n",
            "Nota 2: 7.5\n",
            "ALUNO 3\n",
            "Nome: Kauan\n",
            "Nota 1: 5\n",
            "Nota 2: 4.7\n",
            "ALUNO 4\n",
            "Nome: Jay\n",
            "Nota 1: 4\n",
            "Nota 2: 3.5\n",
            "\n",
            "Listagem de alunos\n",
            "------------------\n",
            "  Amanda: Média = 9.75\n",
            "Jhonatan: Média = 7.85\n",
            "   Kauan: Média = 4.85\n",
            "     Jay: Média = 3.75\n",
            "Ao todo temos 2 alunos acima da média que é 6.55\n"
          ]
        }
      ]
    },
    {
      "cell_type": "code",
      "source": [
        "soC = [0] * 10  # Inicializa a lista `soC` com 10 elementos, todos com valor 0\n",
        "c: int\n",
        "tot: int = 0  # Inicializa o contador `tot` para contar os nomes que começam com \"C\"\n",
        "\n",
        "for c in range(10):  # Loop que vai de 0 a 9, totalizando 10 iterações\n",
        "    nome = input(\"Escreva seu nome: \")\n",
        "    if nome.upper().startswith('C'):  # Verifica se o nome começa com \"C\" ou \"c\"\n",
        "        soC[tot] = nome  # Armazena o nome na lista `soC`\n",
        "        tot = tot + 1  # Incrementa o contador de nomes que começam com \"C\"\n",
        "\n",
        "print(\"\\nListagem Final\")\n",
        "for c in range(tot):  # Loop para exibir os nomes armazenados em `soC`\n",
        "    print(soC[c])"
      ],
      "metadata": {
        "colab": {
          "base_uri": "https://localhost:8080/"
        },
        "id": "Nz3Ole1dDsZ2",
        "outputId": "91673303-3d96-4622-cfd0-0b85e9c90026"
      },
      "execution_count": null,
      "outputs": [
        {
          "output_type": "stream",
          "name": "stdout",
          "text": [
            "Escreva seu nome: claudio\n",
            "Escreva seu nome: claudia\n",
            "Escreva seu nome: Carlos\n",
            "Escreva seu nome: amanda\n",
            "Escreva seu nome: jhonatan\n",
            "Escreva seu nome: Cesar\n",
            "Escreva seu nome: julio\n",
            "Escreva seu nome: alan\n",
            "Escreva seu nome: mount\n",
            "Escreva seu nome: dedé\n",
            "\n",
            "Listagem Final\n",
            "claudio\n",
            "claudia\n",
            "Carlos\n",
            "Cesar\n"
          ]
        }
      ]
    },
    {
      "cell_type": "code",
      "source": [
        "# Inicialização das Variáveis\n",
        "vet = [0] * 4  # Cria uma lista 'vet' com 4 elementos, todos iniciados com 0\n",
        "i: int  # Índice para percorrer a lista\n",
        "aux: int  # Variável auxiliar para realizar a troca de valores\n",
        "j: int  # Índice para percorrer a lista a partir da posição i+1\n",
        "\n",
        "# Leitura dos Valores\n",
        "for i in range(4):  # Loop para entrada de 4 valores\n",
        "    vet[i] = int(input(\"Digite um valor: \"))  # Armazena cada valor na lista 'vet'\n",
        "\n",
        "# Ordenação dos Valores\n",
        "for i in range(3):  # Loop que percorre a lista até a penúltima posição\n",
        "    for j in range(i + 1, 4):  # Loop que percorre as posições subsequentes para comparação\n",
        "        if vet[i] > vet[j]:  # Se o valor na posição 'i' for maior que o valor na posição 'j'\n",
        "            aux = vet[i]  # Guarda o valor de 'vet[i]' na variável auxiliar 'aux'\n",
        "            vet[i] = vet[j]  # Atribui o valor de 'vet[j]' para 'vet[i]'\n",
        "            vet[j] = aux  # Atribui o valor de 'aux' (inicialmente 'vet[i]') para 'vet[j]'\n",
        "\n",
        "# Impressão dos Valores Ordenados\n",
        "for i in range(4):  # Loop para imprimir os valores da lista\n",
        "    print(vet[i])  # Exibe cada valor da lista, agora em ordem crescente"
      ],
      "metadata": {
        "colab": {
          "base_uri": "https://localhost:8080/"
        },
        "id": "GEf73bs0F23W",
        "outputId": "ce983418-43f1-4b09-e7fb-c42cf80e68bd"
      },
      "execution_count": null,
      "outputs": [
        {
          "output_type": "stream",
          "name": "stdout",
          "text": [
            "Digite um valor: 9\n",
            "Digite um valor: 4\n",
            "Digite um valor: 5\n",
            "Digite um valor: 7\n",
            "4\n",
            "5\n",
            "7\n",
            "9\n"
          ]
        }
      ]
    },
    {
      "cell_type": "code",
      "source": [
        "# Inicialização da matriz com 3 linhas e 2 colunas\n",
        "mat = [[0] * 2 for _ in range(3)]\n",
        "\n",
        "# Declaração das variáveis para as linhas e colunas\n",
        "l: int\n",
        "c: int\n",
        "\n",
        "# Preenchimento da matriz\n",
        "for l in range(3):  # Loop para percorrer as 3 linhas\n",
        "    for c in range(2):  # Loop para percorrer as 2 colunas\n",
        "        mat[l][c] = int(input(f\"Digite um valor para a posição ({l}, {c}): \"))"
      ],
      "metadata": {
        "colab": {
          "base_uri": "https://localhost:8080/"
        },
        "id": "Hg3ZeciJJEny",
        "outputId": "1c4f94b7-bb13-4245-819c-704948b4fc9f"
      },
      "execution_count": null,
      "outputs": [
        {
          "name": "stdout",
          "output_type": "stream",
          "text": [
            "Digite um valor para a posição (0, 0): 2\n",
            "Digite um valor para a posição (0, 1): 3\n",
            "Digite um valor para a posição (1, 0): 4\n",
            "Digite um valor para a posição (1, 1): 5\n",
            "Digite um valor para a posição (2, 0): 6\n",
            "Digite um valor para a posição (2, 1): 7\n"
          ]
        }
      ]
    },
    {
      "cell_type": "code",
      "source": [
        "# Inicialização da matriz com 3 linhas e 2 colunas\n",
        "mat = [[0] * 2 for _ in range(3)]\n",
        "\n",
        "# Declaração das variáveis para as linhas e colunas\n",
        "l: int\n",
        "c: int\n",
        "\n",
        "# Preenchimento da matriz\n",
        "for l in range(3):  # Loop para percorrer as 3 linhas\n",
        "    for c in range(2):  # Loop para percorrer as 2 colunas\n",
        "        mat[l][c] = int(input(f\"Digite um valor para a posição ({l}, {c}): \"))\n",
        "\n",
        "# Exibição da matriz\n",
        "print(\"Matriz resultante:\")\n",
        "for l in range(3):\n",
        "    for c in range(2):\n",
        "        print(mat[l][c], end=' ')  # Adiciona espaço entre os elementos na mesma linha\n",
        "    print()  # Quebra de linha após cada linha da matriz"
      ],
      "metadata": {
        "colab": {
          "base_uri": "https://localhost:8080/"
        },
        "id": "F7tYpyKiNI7R",
        "outputId": "cc85f3d8-eb6e-4031-ac0a-523dc24a81ec"
      },
      "execution_count": null,
      "outputs": [
        {
          "output_type": "stream",
          "name": "stdout",
          "text": [
            "Digite um valor para a posição (0, 0): 1\n",
            "Digite um valor para a posição (0, 1): 2\n",
            "Digite um valor para a posição (1, 0): 3\n",
            "Digite um valor para a posição (1, 1): 4\n",
            "Digite um valor para a posição (2, 0): 5\n",
            "Digite um valor para a posição (2, 1): 6\n",
            "Matriz resultante:\n",
            "1 2 \n",
            "3 4 \n",
            "5 6 \n"
          ]
        }
      ]
    },
    {
      "cell_type": "code",
      "source": [
        "# Criação da matriz 3x3 preenchida com zeros\n",
        "mat = [[0] * 3 for _ in range(3)]\n",
        "\n",
        "# Preenchendo a matriz com valores fornecidos pelo usuário\n",
        "for l in range(3):\n",
        "    for c in range(3):\n",
        "        mat[l][c] = int(input(f\"Digite um valor para a posição ({l}, {c}): \"))\n",
        "\n",
        "# Exibindo a matriz e contando os números pares\n",
        "print(\"Matriz resultante:\")\n",
        "totPar = 0\n",
        "for l in range(3):\n",
        "    for c in range(3):\n",
        "        if mat[l][c] % 2 == 0:\n",
        "            print(f\"{{ {mat[l][c]} }}\", end=' ')\n",
        "            totPar += 1\n",
        "        else:\n",
        "            print(f\"{mat[l][c]}\", end=' ')\n",
        "    print()  # Para pular para a próxima linha após imprimir uma linha da matriz\n",
        "\n",
        "# Exibindo o total de números pares\n",
        "print(\"Total de pares:\", totPar)"
      ],
      "metadata": {
        "colab": {
          "base_uri": "https://localhost:8080/"
        },
        "id": "s7n3uofTQ9Gx",
        "outputId": "45fa8427-56d6-474c-ccf2-268060fabfc8"
      },
      "execution_count": null,
      "outputs": [
        {
          "output_type": "stream",
          "name": "stdout",
          "text": [
            "Digite um valor para a posição (0, 0): 1\n",
            "Digite um valor para a posição (0, 1): 2\n",
            "Digite um valor para a posição (0, 2): 3\n",
            "Digite um valor para a posição (1, 0): 4\n",
            "Digite um valor para a posição (1, 1): 5\n",
            "Digite um valor para a posição (1, 2): 6\n",
            "Digite um valor para a posição (2, 0): 7\n",
            "Digite um valor para a posição (2, 1): 8\n",
            "Digite um valor para a posição (2, 2): 9\n",
            "Matriz resultante:\n",
            "1 { 2 } 3 \n",
            "{ 4 } 5 { 6 } \n",
            "7 { 8 } 9 \n",
            "Total de pares: 4\n"
          ]
        }
      ]
    },
    {
      "cell_type": "code",
      "source": [
        "# Criação da matriz 3x3\n",
        "mID = [[0] * 3 for _ in range(3)]\n",
        "\n",
        "# Preenchendo a matriz identidade\n",
        "for i in range(3):\n",
        "    for j in range(3):\n",
        "        if i == j:\n",
        "            mID[i][j] = 1\n",
        "        else:\n",
        "            mID[i][j] = 0  # Esse passo é redundante porque a matriz já é inicializada com 0\n",
        "        print(mID[i][j], end=' ')\n",
        "    print()  # Para pular para a próxima linha após imprimir uma linha da matriz"
      ],
      "metadata": {
        "colab": {
          "base_uri": "https://localhost:8080/"
        },
        "id": "DaVJM6LtTL0m",
        "outputId": "c56fd5fd-4b9e-4422-ac76-2cff9f75b6ae"
      },
      "execution_count": null,
      "outputs": [
        {
          "output_type": "stream",
          "name": "stdout",
          "text": [
            "1 0 0 \n",
            "0 1 0 \n",
            "0 0 1 \n"
          ]
        }
      ]
    },
    {
      "cell_type": "code",
      "source": [
        "mat = [[0] * 4 for _ in range(4)]\n",
        "\n",
        "l: int\n",
        "c: int\n",
        "\n",
        "sDP = 0\n",
        "for l in range(4):\n",
        "    for c in range(4):\n",
        "        mat[l][c] = int(input(f\"Digite um valor para a posição ({l}, {c}): \"))\n",
        "        if l == c:\n",
        "            sDP = sDP + mat[l][c]\n",
        "\n",
        "print(\"Matriz resultante:\")\n",
        "for l in range(4):\n",
        "    for c in range(4):\n",
        "        print(mat[l][c], end=' ')\n",
        "    print()\n",
        "\n",
        "print(\"Soma da diagonal principal:\", sDP)"
      ],
      "metadata": {
        "colab": {
          "base_uri": "https://localhost:8080/"
        },
        "id": "MgxpPlzMUfhs",
        "outputId": "3555350f-45df-46a4-a3dc-55f4c1458d16"
      },
      "execution_count": null,
      "outputs": [
        {
          "output_type": "stream",
          "name": "stdout",
          "text": [
            "Digite um valor para a posição (0, 0): 1\n",
            "Digite um valor para a posição (0, 1): 2\n",
            "Digite um valor para a posição (0, 2): 3\n",
            "Digite um valor para a posição (0, 3): 4\n",
            "Digite um valor para a posição (1, 0): 5\n",
            "Digite um valor para a posição (1, 1): 6\n",
            "Digite um valor para a posição (1, 2): 7\n",
            "Digite um valor para a posição (1, 3): 8\n",
            "Digite um valor para a posição (2, 0): 9\n",
            "Digite um valor para a posição (2, 1): 10\n",
            "Digite um valor para a posição (2, 2): 11\n",
            "Digite um valor para a posição (2, 3): 12\n",
            "Digite um valor para a posição (3, 0): 13\n",
            "Digite um valor para a posição (3, 1): 14\n",
            "Digite um valor para a posição (3, 2): 15\n",
            "Digite um valor para a posição (3, 3): 16\n",
            "Matriz resultante:\n",
            "1 2 3 4 \n",
            "5 6 7 8 \n",
            "9 10 11 12 \n",
            "13 14 15 16 \n",
            "Soma da diagonal principal: 34\n"
          ]
        }
      ]
    },
    {
      "cell_type": "code",
      "source": [
        "# Criação da matriz 4x4\n",
        "mat = [[0] * 4 for _ in range(4)]\n",
        "\n",
        "# Inicialização da variável para a soma da diagonal principal\n",
        "sDP = 0\n",
        "\n",
        "# Preenchendo a matriz com valores fornecidos pelo usuário e calculando a soma da diagonal principal\n",
        "for l in range(4):\n",
        "    for c in range(4):\n",
        "        mat[l][c] = int(input(f\"Digite um valor para a posição ({l}, {c}): \"))\n",
        "        if l == c:\n",
        "            sDP += mat[l][c]\n",
        "\n",
        "# Exibindo a matriz resultante com alinhamento\n",
        "print(\"Matriz resultante:\")\n",
        "for l in range(4):\n",
        "    for c in range(4):\n",
        "        # Ajusta a largura de cada coluna para garantir que a matriz esteja alinhada\n",
        "        print(f\"{mat[l][c]:4}\", end=' ')\n",
        "    print()\n",
        "\n",
        "# Exibindo a soma da diagonal principal\n",
        "print(\"Soma da diagonal principal:\", sDP)"
      ],
      "metadata": {
        "colab": {
          "base_uri": "https://localhost:8080/"
        },
        "id": "CzsnOCkpWT5e",
        "outputId": "120f0fca-69b9-4d3f-ea94-975c329a041a"
      },
      "execution_count": null,
      "outputs": [
        {
          "output_type": "stream",
          "name": "stdout",
          "text": [
            "Digite um valor para a posição (0, 0): 1\n",
            "Digite um valor para a posição (0, 1): 2\n",
            "Digite um valor para a posição (0, 2): 3\n",
            "Digite um valor para a posição (0, 3): 4\n",
            "Digite um valor para a posição (1, 0): 5\n",
            "Digite um valor para a posição (1, 1): 6\n",
            "Digite um valor para a posição (1, 2): 7\n",
            "Digite um valor para a posição (1, 3): 8\n",
            "Digite um valor para a posição (2, 0): 9\n",
            "Digite um valor para a posição (2, 1): 10\n",
            "Digite um valor para a posição (2, 2): 11\n",
            "Digite um valor para a posição (2, 3): 12\n",
            "Digite um valor para a posição (3, 0): 13\n",
            "Digite um valor para a posição (3, 1): 14\n",
            "Digite um valor para a posição (3, 2): 15\n",
            "Digite um valor para a posição (3, 3): 16\n",
            "Matriz resultante:\n",
            "   1    2    3    4 \n",
            "   5    6    7    8 \n",
            "   9   10   11   12 \n",
            "  13   14   15   16 \n",
            "Soma da diagonal principal: 34\n"
          ]
        }
      ]
    },
    {
      "cell_type": "code",
      "source": [
        "# Criação da matriz 4x4\n",
        "mat = [[0] * 4 for _ in range(4)]\n",
        "\n",
        "# Inicialização das variáveis\n",
        "p2L = 1\n",
        "sDP = 0\n",
        "\n",
        "# Preenchendo a matriz com valores fornecidos pelo usuário e calculando a soma da diagonal principal\n",
        "for l in range(4):\n",
        "    for c in range(4):\n",
        "        mat[l][c] = int(input(f\"Digite um valor para a posição ({l}, {c}): \"))\n",
        "        if l == c:\n",
        "            sDP += mat[l][c]\n",
        "\n",
        "# Calculando o produto dos elementos da segunda linha\n",
        "for c in range(4):\n",
        "    p2L *= mat[1][c]\n",
        "\n",
        "# Exibindo a matriz resultante com alinhamento\n",
        "print(\"Matriz resultante:\")\n",
        "for l in range(4):\n",
        "    for c in range(4):\n",
        "        print(f\"{mat[l][c]:4}\", end=' ')\n",
        "    print()\n",
        "\n",
        "# Exibindo a soma da diagonal principal e o produto da segunda linha\n",
        "print(\"Soma da diagonal principal:\", sDP)\n",
        "print(\"Produto da segunda linha:\", p2L)"
      ],
      "metadata": {
        "colab": {
          "base_uri": "https://localhost:8080/"
        },
        "id": "DCNjM1z0XBcB",
        "outputId": "2ff06f6d-dac1-4a81-e6af-50de5c3d076e"
      },
      "execution_count": null,
      "outputs": [
        {
          "output_type": "stream",
          "name": "stdout",
          "text": [
            "Digite um valor para a posição (0, 0): 1\n",
            "Digite um valor para a posição (0, 1): 2\n",
            "Digite um valor para a posição (0, 2): 3\n",
            "Digite um valor para a posição (0, 3): 4\n",
            "Digite um valor para a posição (1, 0): 5\n",
            "Digite um valor para a posição (1, 1): 6\n",
            "Digite um valor para a posição (1, 2): 7\n",
            "Digite um valor para a posição (1, 3): 8\n",
            "Digite um valor para a posição (2, 0): 9\n",
            "Digite um valor para a posição (2, 1): 1\n",
            "Digite um valor para a posição (2, 2): 2\n",
            "Digite um valor para a posição (2, 3): 3\n",
            "Digite um valor para a posição (3, 0): 4\n",
            "Digite um valor para a posição (3, 1): 5\n",
            "Digite um valor para a posição (3, 2): 6\n",
            "Digite um valor para a posição (3, 3): 7\n",
            "Matriz resultante:\n",
            "   1    2    3    4 \n",
            "   5    6    7    8 \n",
            "   9    1    2    3 \n",
            "   4    5    6    7 \n",
            "Soma da diagonal principal: 16\n",
            "Produto da segunda linha: 1680\n"
          ]
        }
      ]
    },
    {
      "cell_type": "code",
      "source": [
        "# Criação da matriz 4x4\n",
        "mat = [[0] * 4 for _ in range(4)]\n",
        "\n",
        "# Inicialização das variáveis\n",
        "p2L = 1\n",
        "sDP = 0\n",
        "m3c = -float('inf')  # Inicializa com o menor valor possível\n",
        "\n",
        "# Preenchendo a matriz com valores fornecidos pelo usuário e calculando a soma da diagonal principal\n",
        "for l in range(4):\n",
        "    for c in range(4):\n",
        "        mat[l][c] = int(input(f\"Digite um valor para a posição ({l}, {c}): \"))\n",
        "        if l == c:\n",
        "            sDP += mat[l][c]\n",
        "\n",
        "# Calculando o produto dos elementos da segunda linha\n",
        "for c in range(4):\n",
        "    p2L *= mat[1][c]\n",
        "\n",
        "# Encontrando o maior valor na terceira coluna\n",
        "for l in range(4):\n",
        "    if mat[l][2] > m3c:\n",
        "        m3c = mat[l][2]\n",
        "\n",
        "# Exibindo a matriz resultante com alinhamento\n",
        "print(\"Matriz resultante:\")\n",
        "for l in range(4):\n",
        "    for c in range(4):\n",
        "        print(f\"{mat[l][c]:4}\", end=' ')\n",
        "    print()\n",
        "\n",
        "# Exibindo a soma da diagonal principal, o produto da segunda linha e o maior valor da terceira coluna\n",
        "print(\"Soma da diagonal principal:\", sDP)\n",
        "print(\"Produto da segunda linha:\", p2L)\n",
        "print(\"Maior valor da terceira coluna:\", m3c)"
      ],
      "metadata": {
        "colab": {
          "base_uri": "https://localhost:8080/"
        },
        "id": "W7yiyhocYjdJ",
        "outputId": "3d88dbf7-6e8a-4d20-ad85-cc2d70b763d2"
      },
      "execution_count": null,
      "outputs": [
        {
          "output_type": "stream",
          "name": "stdout",
          "text": [
            "Digite um valor para a posição (0, 0): 11\n",
            "Digite um valor para a posição (0, 1): 12\n",
            "Digite um valor para a posição (0, 2): 2\n",
            "Digite um valor para a posição (0, 3): 3\n",
            "Digite um valor para a posição (1, 0): 56\n",
            "Digite um valor para a posição (1, 1): 34\n",
            "Digite um valor para a posição (1, 2): 78\n",
            "Digite um valor para a posição (1, 3): 3544\n",
            "Digite um valor para a posição (2, 0): 76\n",
            "Digite um valor para a posição (2, 1): 434\n",
            "Digite um valor para a posição (2, 2): 656\n",
            "Digite um valor para a posição (2, 3): 980\n",
            "Digite um valor para a posição (3, 0): 343\n",
            "Digite um valor para a posição (3, 1): 232\n",
            "Digite um valor para a posição (3, 2): 1224\n",
            "Digite um valor para a posição (3, 3): 23\n",
            "Matriz resultante:\n",
            "  11   12    2    3 \n",
            "  56   34   78 3544 \n",
            "  76  434  656  980 \n",
            " 343  232 1224   23 \n",
            "Soma da diagonal principal: 724\n",
            "Produto da segunda linha: 526326528\n",
            "Maior valor da terceira coluna: 1224\n"
          ]
        }
      ]
    },
    {
      "cell_type": "code",
      "source": [
        "def exibir_matriz(mat):\n",
        "    for linha in mat:\n",
        "        for elemento in linha:\n",
        "            print(f\"{elemento:4}\", end=' ')\n",
        "        print()\n",
        "\n",
        "def exibir_triangulo_cima(mat):\n",
        "    for i in range(len(mat)):\n",
        "        for j in range(i + 1):\n",
        "            print(f\"{mat[i][j]:4}\", end=' ')\n",
        "        print()\n",
        "\n",
        "def exibir_triangulo_baixo(mat):\n",
        "    for i in range(len(mat)):\n",
        "        for j in range(i, len(mat)):\n",
        "            print(f\"{mat[i][j]:4}\", end=' ')\n",
        "        print()\n",
        "\n",
        "def exibir_diagonal_principal(mat):\n",
        "    for i in range(len(mat)):\n",
        "        for j in range(len(mat)):\n",
        "            if i == j:\n",
        "                print(f\"{mat[i][j]:4}\", end=' ')\n",
        "            else:\n",
        "                print(\"    \", end=' ')\n",
        "        print()\n",
        "\n",
        "# Criação da matriz 3x3\n",
        "mID = [[0] * 3 for _ in range(3)]\n",
        "\n",
        "# Preenchendo a matriz identidade\n",
        "for i in range(3):\n",
        "    for j in range(3):\n",
        "        if i == j:\n",
        "            mID[i][j] = 1\n",
        "\n",
        "# Menu\n",
        "while True:\n",
        "    print(\"\\nMenu:\")\n",
        "    print(\"1. Mostrar a matriz inteira\")\n",
        "    print(\"2. Mostrar o triângulo superior da matriz\")\n",
        "    print(\"3. Mostrar o triângulo inferior da matriz\")\n",
        "    print(\"4. Mostrar a diagonal principal\")\n",
        "    print(\"0. Sair\")\n",
        "\n",
        "    escolha = input(\"Escolha uma opção: \")\n",
        "\n",
        "    if escolha == '1':\n",
        "        print(\"Matriz inteira:\")\n",
        "        exibir_matriz(mID)\n",
        "    elif escolha == '2':\n",
        "        print(\"Triângulo superior:\")\n",
        "        exibir_triangulo_cima(mID)\n",
        "    elif escolha == '3':\n",
        "        print(\"Triângulo inferior:\")\n",
        "        exibir_triangulo_baixo(mID)\n",
        "    elif escolha == '4':\n",
        "        print(\"Diagonal principal:\")\n",
        "        exibir_diagonal_principal(mID)\n",
        "    elif escolha == '0':\n",
        "        print(\"Saindo...\")\n",
        "        break\n",
        "    else:\n",
        "        print(\"Opção inválida. Tente novamente.\")"
      ],
      "metadata": {
        "colab": {
          "base_uri": "https://localhost:8080/"
        },
        "id": "I9Cod-31b3ow",
        "outputId": "4f2bc2f5-54dd-46be-d25e-bf3734cf32f6"
      },
      "execution_count": null,
      "outputs": [
        {
          "output_type": "stream",
          "name": "stdout",
          "text": [
            "\n",
            "Menu:\n",
            "1. Mostrar a matriz inteira\n",
            "2. Mostrar o triângulo superior da matriz\n",
            "3. Mostrar o triângulo inferior da matriz\n",
            "4. Mostrar a diagonal principal\n",
            "0. Sair\n",
            "Escolha uma opção: 1\n",
            "Matriz inteira:\n",
            "   1    0    0 \n",
            "   0    1    0 \n",
            "   0    0    1 \n",
            "\n",
            "Menu:\n",
            "1. Mostrar a matriz inteira\n",
            "2. Mostrar o triângulo superior da matriz\n",
            "3. Mostrar o triângulo inferior da matriz\n",
            "4. Mostrar a diagonal principal\n",
            "0. Sair\n",
            "Escolha uma opção: 2\n",
            "Triângulo superior:\n",
            "   1 \n",
            "   0    1 \n",
            "   0    0    1 \n",
            "\n",
            "Menu:\n",
            "1. Mostrar a matriz inteira\n",
            "2. Mostrar o triângulo superior da matriz\n",
            "3. Mostrar o triângulo inferior da matriz\n",
            "4. Mostrar a diagonal principal\n",
            "0. Sair\n",
            "Escolha uma opção: 3\n",
            "Triângulo inferior:\n",
            "   1    0    0 \n",
            "   1    0 \n",
            "   1 \n",
            "\n",
            "Menu:\n",
            "1. Mostrar a matriz inteira\n",
            "2. Mostrar o triângulo superior da matriz\n",
            "3. Mostrar o triângulo inferior da matriz\n",
            "4. Mostrar a diagonal principal\n",
            "0. Sair\n",
            "Escolha uma opção: 4\n",
            "Diagonal principal:\n",
            "   1           \n",
            "        1      \n",
            "             1 \n",
            "\n",
            "Menu:\n",
            "1. Mostrar a matriz inteira\n",
            "2. Mostrar o triângulo superior da matriz\n",
            "3. Mostrar o triângulo inferior da matriz\n",
            "4. Mostrar a diagonal principal\n",
            "0. Sair\n",
            "Escolha uma opção: 0\n",
            "Saindo...\n"
          ]
        }
      ]
    }
  ]
}